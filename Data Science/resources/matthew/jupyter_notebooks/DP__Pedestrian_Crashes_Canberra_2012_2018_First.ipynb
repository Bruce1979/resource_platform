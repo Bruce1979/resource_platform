{
  "nbformat": 4,
  "nbformat_minor": 0,
  "metadata": {
    "kernelspec": {
      "display_name": "Python 3",
      "language": "python",
      "name": "python3"
    },
    "language_info": {
      "codemirror_mode": {
        "name": "ipython",
        "version": 3
      },
      "file_extension": ".py",
      "mimetype": "text/x-python",
      "name": "python",
      "nbconvert_exporter": "python",
      "pygments_lexer": "ipython3",
      "version": "3.6.5"
    },
    "colab": {
      "name": "DP_ Pedestrian_Crashes_Canberra_2012_2018_First.ipynb",
      "provenance": [],
      "collapsed_sections": []
    }
  },
  "cells": [
    {
      "cell_type": "markdown",
      "metadata": {
        "id": "F0-VFSt2KMhh",
        "colab_type": "text"
      },
      "source": [
        "# Data Processing\n",
        "\n",
        "In this exercise we are going to look at some data.\n",
        "\n",
        "The datasets are available from the [ACT Open Data Portal](https://www.data.act.gov.au/)\n",
        "\n",
        "We are looking at data for [pedestrian crashes](https://www.data.act.gov.au/Justice-Safety-and-Emergency/Pedestrian-Crashes/emq2-8bc4/data) in the ACT.\n",
        "\n",
        "You can download the data for exploration using Excel or Sheets.\n",
        "\n",
        "This exercise will introduce you to data analysis using python.\n",
        "***\n",
        "## Jupyter Notebooks and Colab:\n",
        "\n",
        "The notebook state is \"remembered\" during a session.\n",
        "\n",
        "Any variables created in one cell will retain their value when referenced in another cell.\n",
        "\n",
        "If \"inactive\" for a time - Google Colab will \"reset\" the engine.\n",
        "\n",
        "You will lose all variable values when this happens.  This requires re-executing each cell in sequence to return the engine to its previous state.\n",
        "\n",
        "***\n",
        "## Importing Libraries\n",
        "The first thing we have to do in working with data is to import code libraries which will make the job of data analysis easier.\n",
        "\n",
        "We will be working with the libraries:\n",
        "\n",
        "\n",
        "*   [NumPy](https://numpy.org/) - Python Numerical Analysis\n",
        "*   [Pandas](https://pandas.pydata.org/) - Python Data Analysis\n",
        "*   [MatPlotLib](https://matplotlib.org/) - Python Data Plotting\n",
        "\n",
        "Import \"as\" allows you to rename a module for ease of access: it gives a \"nickname\" for the module. \n",
        "\n",
        "For example (not a code cell!):\n",
        "```python\n",
        "import pandas as pd # You can now refer to pandas using the name \"pd\"\n",
        "```\n",
        "\n"
      ]
    },
    {
      "cell_type": "code",
      "metadata": {
        "id": "p_ksWkWmKLRX",
        "colab_type": "code",
        "outputId": "b296db79-9a9d-466e-ce51-5d8fc1ccbe4a",
        "colab": {
          "base_uri": "https://localhost:8080/",
          "height": 129
        }
      },
      "source": [
        "# import gives us access to a library of python code\n",
        "# In this way we can build our code based on sophisticated code\n",
        "# created by a wide range of experts from around the world.\n",
        "\n",
        "import numpy as np\n",
        "# numpy is a library for numerical analysis\n",
        "\n",
        "import pandas as pd\n",
        "# pandas is a library for data processing\n",
        "\n",
        "import matplotlib.pyplot as plt\n",
        "# matplotlib is a library for plotting quantitative data\n",
        "\n",
        "import datetime\n",
        "# datetime enables us to handle date and time data numerically\n",
        "\n",
        "import matplotlib.pyplot as plt\n",
        "\n",
        "# Connect to our Google Drive\n",
        "from google.colab import drive\n",
        "drive.mount('/content/drive')"
      ],
      "execution_count": 0,
      "outputs": [
        {
          "output_type": "stream",
          "text": [
            "Go to this URL in a browser: https://accounts.google.com/o/oauth2/auth?client_id=947318989803-6bn6qk8qdgf4n4g3pfee6491hc0brc4i.apps.googleusercontent.com&redirect_uri=urn%3aietf%3awg%3aoauth%3a2.0%3aoob&response_type=code&scope=email%20https%3a%2f%2fwww.googleapis.com%2fauth%2fdocs.test%20https%3a%2f%2fwww.googleapis.com%2fauth%2fdrive%20https%3a%2f%2fwww.googleapis.com%2fauth%2fdrive.photos.readonly%20https%3a%2f%2fwww.googleapis.com%2fauth%2fpeopleapi.readonly\n",
            "\n",
            "Enter your authorization code:\n",
            "··········\n",
            "Mounted at /content/drive\n"
          ],
          "name": "stdout"
        }
      ]
    },
    {
      "cell_type": "markdown",
      "metadata": {
        "id": "8VPEzJpTUwmF",
        "colab_type": "text"
      },
      "source": [
        "Remember to execute each code cell!\n",
        "\n",
        "# Read in your data\n",
        "Let's read in the crash data spreadsheet using pandas \"read_csv\"\n",
        "\n",
        "parse_dates is a parameter which enable translation of a date string into standard date format.\n",
        "\n",
        "In this example we are reading in the Pedestrian Crash Data from the ACT Open Data Portal.  It has been downloaded from the portal, and then uploaded to my Google Drive folder \"My Drive/Colab Notebooks/Data\".\n",
        "\n",
        "> ***read_csv*** reads a comma separated value file, and gives a pandas dataframe as a result. The CSV file must have data structured in rows and columns.\n",
        "\n",
        "> What is a ___pandas dataframe___? A *\"two-dimensional size-mutable, potentially heterogeneous tabular data structure with labeled axes (rows and columns). A Data frame is a two-dimensional data structure, i.e., data is aligned in a tabular fashion in rows and columns. Pandas DataFrame consists of three principal components, the data, rows, and columns.\"*  ([GeeksForGeeks](https://www.geeksforgeeks.org/python-pandas-dataframe/)).  It is like a Spreadsheet Table or SQL Database Table.\n"
      ]
    },
    {
      "cell_type": "code",
      "metadata": {
        "id": "I0rG9AGWUuJd",
        "colab_type": "code",
        "colab": {}
      },
      "source": [
        "#read in the ACT Pedestrian Crash Data\n",
        "act_data = pd.read_csv('/content/drive/My Drive/Colab Notebooks/Data/Pedestrian_Crashes.csv',parse_dates={\"crash_date\": ['Crash Date']})\n",
        "\n",
        "# We now have a variable called act_data which references a Pandas DataFrame\n"
      ],
      "execution_count": 0,
      "outputs": []
    },
    {
      "cell_type": "markdown",
      "metadata": {
        "id": "tUuhdgSuWJNR",
        "colab_type": "text"
      },
      "source": [
        "### Date Datatype\n",
        "#### string vs pandas timestamp\n",
        "\n",
        "The Crash Date (the date the pedestrian crash occurred) was parsed during import\n",
        "\n",
        "> define parse:  the process of analyzing a string of symbols, either in natural language, computer languages or data structures, conforming to the rules of a formal grammar. ([Wikipedia](https://en.wikipedia.org/wiki/Parsing))\n",
        "\n",
        "NOTE: This parse_date was possible because we looked at the CSV **FIRST** and knew the names of the columns and the format of the dates in the \"Crash Date\" column.\n",
        "\n",
        "We can checkout this column like so:"
      ]
    },
    {
      "cell_type": "code",
      "metadata": {
        "id": "IYuxODiuWlRF",
        "colab_type": "code",
        "outputId": "0d042cbc-2331-4db4-9af1-7142e6dae946",
        "colab": {
          "base_uri": "https://localhost:8080/",
          "height": 237
        }
      },
      "source": [
        "act_data.crash_date"
      ],
      "execution_count": 0,
      "outputs": [
        {
          "output_type": "execute_result",
          "data": {
            "text/plain": [
              "0     2017-01-23\n",
              "1     2016-05-09\n",
              "2     2019-06-08\n",
              "3     2012-03-05\n",
              "4     2012-09-25\n",
              "         ...    \n",
              "474   2017-08-22\n",
              "475   2019-04-28\n",
              "476   2018-12-28\n",
              "477   2019-04-15\n",
              "478   2015-07-08\n",
              "Name: crash_date, Length: 479, dtype: datetime64[ns]"
            ]
          },
          "metadata": {
            "tags": []
          },
          "execution_count": 4
        }
      ]
    },
    {
      "cell_type": "markdown",
      "metadata": {
        "id": "RHsAvE1yXFTI",
        "colab_type": "text"
      },
      "source": [
        "If your crash_date is a String (because you did not use parse_dates), and not a datetime64, then you need to convert it so that we can access full datetime functionality.\n",
        "\n",
        "You can convert this using pandas to_datetime() function."
      ]
    },
    {
      "cell_type": "code",
      "metadata": {
        "colab_type": "code",
        "id": "ZnMUgspEXDo6",
        "colab": {}
      },
      "source": [
        "# This shows how to convert a string date formatted as dd/mm/yyyy into a \n",
        "# act_data['crash_date'] = pd.to_datetime(act_data['crash_date_str'],format='%d/%m/%Y')\n",
        "# YOU DO NOT NEED TO RUN THIS!  WE PARSED THE DATES!"
      ],
      "execution_count": 0,
      "outputs": []
    },
    {
      "cell_type": "markdown",
      "metadata": {
        "id": "PRPOkuJ5c_B6",
        "colab_type": "text"
      },
      "source": [
        "# Investigating the DataFrame\n",
        "\n",
        "We can display the first few rows using the head() function"
      ]
    },
    {
      "cell_type": "code",
      "metadata": {
        "id": "az0d8tyAKLRl",
        "colab_type": "code",
        "outputId": "5f44327c-cf75-41ce-a643-d9768e4e5c65",
        "colab": {
          "base_uri": "https://localhost:8080/",
          "height": 206
        }
      },
      "source": [
        "#display the first 5 entries\n",
        "\n",
        "act_data.head()"
      ],
      "execution_count": 0,
      "outputs": [
        {
          "output_type": "execute_result",
          "data": {
            "text/html": [
              "<div>\n",
              "<style scoped>\n",
              "    .dataframe tbody tr th:only-of-type {\n",
              "        vertical-align: middle;\n",
              "    }\n",
              "\n",
              "    .dataframe tbody tr th {\n",
              "        vertical-align: top;\n",
              "    }\n",
              "\n",
              "    .dataframe thead th {\n",
              "        text-align: right;\n",
              "    }\n",
              "</style>\n",
              "<table border=\"1\" class=\"dataframe\">\n",
              "  <thead>\n",
              "    <tr style=\"text-align: right;\">\n",
              "      <th></th>\n",
              "      <th>crash_date</th>\n",
              "      <th>Crash ID</th>\n",
              "      <th>Crash Time</th>\n",
              "      <th>Severity</th>\n",
              "      <th>Crash Type</th>\n",
              "      <th>Pedestrians</th>\n",
              "      <th>Pedestrian Casualties</th>\n",
              "      <th>Reported Location</th>\n",
              "      <th>Location</th>\n",
              "    </tr>\n",
              "  </thead>\n",
              "  <tbody>\n",
              "    <tr>\n",
              "      <th>0</th>\n",
              "      <td>2017-01-23</td>\n",
              "      <td>1152106</td>\n",
              "      <td>16:00</td>\n",
              "      <td>Injury</td>\n",
              "      <td>Struck pedestrian (On Road)</td>\n",
              "      <td>1</td>\n",
              "      <td>1</td>\n",
              "      <td>RATCLIFFE CRESCENT (CHALLINOR -&gt; CHALLINOR)</td>\n",
              "      <td>(-35.23191, 149.054575)</td>\n",
              "    </tr>\n",
              "    <tr>\n",
              "      <th>1</th>\n",
              "      <td>2016-05-09</td>\n",
              "      <td>1152674</td>\n",
              "      <td>10:29</td>\n",
              "      <td>Injury</td>\n",
              "      <td>Struck pedestrian (Off Road)</td>\n",
              "      <td>1</td>\n",
              "      <td>1</td>\n",
              "      <td>BORROWDALE STREET (NORFOLK -&gt; BORROWDALE)</td>\n",
              "      <td>(-35.342443, 149.12875)</td>\n",
              "    </tr>\n",
              "    <tr>\n",
              "      <th>2</th>\n",
              "      <td>2019-06-08</td>\n",
              "      <td>1214139</td>\n",
              "      <td>12:16</td>\n",
              "      <td>Property Damage Only</td>\n",
              "      <td>Struck pedestrian (Off Road)</td>\n",
              "      <td>1</td>\n",
              "      <td>0</td>\n",
              "      <td>FLEMINGTON/NULLARBOR INTERSECTION</td>\n",
              "      <td>(-35.201011, 149.149205)</td>\n",
              "    </tr>\n",
              "    <tr>\n",
              "      <th>3</th>\n",
              "      <td>2012-03-05</td>\n",
              "      <td>1057306</td>\n",
              "      <td>16:40</td>\n",
              "      <td>Fatal</td>\n",
              "      <td>Struck pedestrian (On Road)</td>\n",
              "      <td>2</td>\n",
              "      <td>2</td>\n",
              "      <td>BATESON/YAMBA INTERSECTION</td>\n",
              "      <td>(-35.347313, 149.099872)</td>\n",
              "    </tr>\n",
              "    <tr>\n",
              "      <th>4</th>\n",
              "      <td>2012-09-25</td>\n",
              "      <td>1046532</td>\n",
              "      <td>10:16</td>\n",
              "      <td>Injury</td>\n",
              "      <td>Struck pedestrian (On Road)</td>\n",
              "      <td>1</td>\n",
              "      <td>1</td>\n",
              "      <td>BRISBANE AVENUE (JOHN MCEWEN -&gt; STATE)</td>\n",
              "      <td>(-35.308829, 149.130814)</td>\n",
              "    </tr>\n",
              "  </tbody>\n",
              "</table>\n",
              "</div>"
            ],
            "text/plain": [
              "  crash_date  ...                  Location\n",
              "0 2017-01-23  ...   (-35.23191, 149.054575)\n",
              "1 2016-05-09  ...   (-35.342443, 149.12875)\n",
              "2 2019-06-08  ...  (-35.201011, 149.149205)\n",
              "3 2012-03-05  ...  (-35.347313, 149.099872)\n",
              "4 2012-09-25  ...  (-35.308829, 149.130814)\n",
              "\n",
              "[5 rows x 9 columns]"
            ]
          },
          "metadata": {
            "tags": []
          },
          "execution_count": 5
        }
      ]
    },
    {
      "cell_type": "markdown",
      "metadata": {
        "id": "JtfGxx-9e3tD",
        "colab_type": "text"
      },
      "source": [
        "There is also a tail function for a dataframe.\n",
        "\n",
        "Challenge: Write code to call the tail function on the act_data dataframe."
      ]
    },
    {
      "cell_type": "code",
      "metadata": {
        "id": "Co11hNtofGqJ",
        "colab_type": "code",
        "colab": {}
      },
      "source": [
        "# Write your code here to call the tail function on the act_data dataframe\n",
        "# And run it!\n"
      ],
      "execution_count": 0,
      "outputs": []
    },
    {
      "cell_type": "markdown",
      "metadata": {
        "id": "dv7xEYwhfPBl",
        "colab_type": "text"
      },
      "source": [
        "## Describing the data\n",
        "Pandas dataframes have a describe function.\n",
        "\n",
        "This will give you some basic statistical details for each numeric column in the dataframe.\n",
        "\n",
        "What is this telling us about the dataframe?"
      ]
    },
    {
      "cell_type": "code",
      "metadata": {
        "id": "XswO31ZjbWd9",
        "colab_type": "code",
        "outputId": "8f19e795-dfbd-4b5b-ccf0-0e6f185a4640",
        "colab": {
          "base_uri": "https://localhost:8080/",
          "height": 300
        }
      },
      "source": [
        "act_data.describe()"
      ],
      "execution_count": 0,
      "outputs": [
        {
          "output_type": "execute_result",
          "data": {
            "text/html": [
              "<div>\n",
              "<style scoped>\n",
              "    .dataframe tbody tr th:only-of-type {\n",
              "        vertical-align: middle;\n",
              "    }\n",
              "\n",
              "    .dataframe tbody tr th {\n",
              "        vertical-align: top;\n",
              "    }\n",
              "\n",
              "    .dataframe thead th {\n",
              "        text-align: right;\n",
              "    }\n",
              "</style>\n",
              "<table border=\"1\" class=\"dataframe\">\n",
              "  <thead>\n",
              "    <tr style=\"text-align: right;\">\n",
              "      <th></th>\n",
              "      <th>Pedestrians</th>\n",
              "      <th>Casualties</th>\n",
              "    </tr>\n",
              "  </thead>\n",
              "  <tbody>\n",
              "    <tr>\n",
              "      <th>count</th>\n",
              "      <td>479.000000</td>\n",
              "      <td>479.000000</td>\n",
              "    </tr>\n",
              "    <tr>\n",
              "      <th>mean</th>\n",
              "      <td>1.025052</td>\n",
              "      <td>0.665971</td>\n",
              "    </tr>\n",
              "    <tr>\n",
              "      <th>std</th>\n",
              "      <td>0.156447</td>\n",
              "      <td>0.502203</td>\n",
              "    </tr>\n",
              "    <tr>\n",
              "      <th>min</th>\n",
              "      <td>1.000000</td>\n",
              "      <td>0.000000</td>\n",
              "    </tr>\n",
              "    <tr>\n",
              "      <th>25%</th>\n",
              "      <td>1.000000</td>\n",
              "      <td>0.000000</td>\n",
              "    </tr>\n",
              "    <tr>\n",
              "      <th>50%</th>\n",
              "      <td>1.000000</td>\n",
              "      <td>1.000000</td>\n",
              "    </tr>\n",
              "    <tr>\n",
              "      <th>75%</th>\n",
              "      <td>1.000000</td>\n",
              "      <td>1.000000</td>\n",
              "    </tr>\n",
              "    <tr>\n",
              "      <th>max</th>\n",
              "      <td>2.000000</td>\n",
              "      <td>2.000000</td>\n",
              "    </tr>\n",
              "  </tbody>\n",
              "</table>\n",
              "</div>"
            ],
            "text/plain": [
              "       Pedestrians  Casualties\n",
              "count   479.000000  479.000000\n",
              "mean      1.025052    0.665971\n",
              "std       0.156447    0.502203\n",
              "min       1.000000    0.000000\n",
              "25%       1.000000    0.000000\n",
              "50%       1.000000    1.000000\n",
              "75%       1.000000    1.000000\n",
              "max       2.000000    2.000000"
            ]
          },
          "metadata": {
            "tags": []
          },
          "execution_count": 11
        }
      ]
    },
    {
      "cell_type": "markdown",
      "metadata": {
        "id": "n7ob1ACaf3uN",
        "colab_type": "text"
      },
      "source": [
        "# Dataframe indexes\n",
        "Dataframes have an index. If you do not specify an index, an index is created for you. This contains a sequential number for each row of the dataframe.\n",
        "\n",
        "Lets have a look at the index"
      ]
    },
    {
      "cell_type": "code",
      "metadata": {
        "id": "pEdPjRSL0-oP",
        "colab_type": "code",
        "outputId": "2c606646-2c74-4028-de0b-9bcd1708c165",
        "colab": {
          "base_uri": "https://localhost:8080/",
          "height": 35
        }
      },
      "source": [
        "act_data.index"
      ],
      "execution_count": 0,
      "outputs": [
        {
          "output_type": "execute_result",
          "data": {
            "text/plain": [
              "RangeIndex(start=0, stop=479, step=1)"
            ]
          },
          "metadata": {
            "tags": []
          },
          "execution_count": 7
        }
      ]
    },
    {
      "cell_type": "markdown",
      "metadata": {
        "id": "9LYRZsGNgPDP",
        "colab_type": "text"
      },
      "source": [
        "This is the default index.\n",
        "\n",
        "We can use another colun as an index. Why would we want to do this?  And what are the restrictions?\n",
        "\n",
        "Indexes are required for using filters (to select part of your data - see below).\n",
        "\n",
        "If you define a column as an index, then you can refer to the column using the name \"index\".\n",
        "\n",
        "## Date-based Index\n",
        "With a date column as an index, you can access date properties directly on the index. This is useful for filtering, grouping, sorting, etc.\n",
        "\n",
        "If you do not do this - then you must refer to the column by name."
      ]
    },
    {
      "cell_type": "code",
      "metadata": {
        "id": "R2iLrifxx_Ta",
        "colab_type": "code",
        "colab": {}
      },
      "source": [
        "#   If you want to set the crash_date as an index, uncomment the line of code\n",
        "#   below, and run this cell.\n",
        "act_data.set_index('crash_date', inplace=True)"
      ],
      "execution_count": 0,
      "outputs": []
    },
    {
      "cell_type": "markdown",
      "metadata": {
        "id": "Pzrv76KihY9O",
        "colab_type": "text"
      },
      "source": [
        "# DataFrame column manipluations\n",
        "\n",
        "With your dataframe, you can change the columns:\n",
        "\n",
        "\n",
        "1.   Change the name of a column\n",
        "2.   Convert the datatype of a column (string to date, for example)\n",
        "3.   Drop (Delete) a column you are not using\n",
        "4.   Add a new column - based on calculated data\n",
        "\n",
        "\n",
        "To change column names:"
      ]
    },
    {
      "cell_type": "code",
      "metadata": {
        "id": "xpFo0AVVKLRr",
        "colab_type": "code",
        "outputId": "d5c31198-a91d-4c2e-8329-421260939630",
        "colab": {
          "base_uri": "https://localhost:8080/",
          "height": 206
        }
      },
      "source": [
        "#Tidy up the column names\n",
        "act_data = act_data.rename(columns={\n",
        "    \"Crash Time\": \"Crash_Time\",\n",
        "    \"Crash Type\": \"Crash_Type\",\n",
        "    \"Pedestrian Casualties\": \"Casualties\",\n",
        "    \"Reported Location\": \"Location\"})\n",
        "\n",
        "# Note - we assign the result of the operation back to the original dataframe\n",
        "act_data.head()"
      ],
      "execution_count": 0,
      "outputs": [
        {
          "output_type": "execute_result",
          "data": {
            "text/html": [
              "<div>\n",
              "<style scoped>\n",
              "    .dataframe tbody tr th:only-of-type {\n",
              "        vertical-align: middle;\n",
              "    }\n",
              "\n",
              "    .dataframe tbody tr th {\n",
              "        vertical-align: top;\n",
              "    }\n",
              "\n",
              "    .dataframe thead th {\n",
              "        text-align: right;\n",
              "    }\n",
              "</style>\n",
              "<table border=\"1\" class=\"dataframe\">\n",
              "  <thead>\n",
              "    <tr style=\"text-align: right;\">\n",
              "      <th></th>\n",
              "      <th>crash_date</th>\n",
              "      <th>Crash ID</th>\n",
              "      <th>Crash_Time</th>\n",
              "      <th>Severity</th>\n",
              "      <th>Crash_Type</th>\n",
              "      <th>Pedestrians</th>\n",
              "      <th>Casualties</th>\n",
              "      <th>Location</th>\n",
              "      <th>Location</th>\n",
              "    </tr>\n",
              "  </thead>\n",
              "  <tbody>\n",
              "    <tr>\n",
              "      <th>0</th>\n",
              "      <td>2017-01-23</td>\n",
              "      <td>1152106</td>\n",
              "      <td>16:00</td>\n",
              "      <td>Injury</td>\n",
              "      <td>Struck pedestrian (On Road)</td>\n",
              "      <td>1</td>\n",
              "      <td>1</td>\n",
              "      <td>RATCLIFFE CRESCENT (CHALLINOR -&gt; CHALLINOR)</td>\n",
              "      <td>(-35.23191, 149.054575)</td>\n",
              "    </tr>\n",
              "    <tr>\n",
              "      <th>1</th>\n",
              "      <td>2016-05-09</td>\n",
              "      <td>1152674</td>\n",
              "      <td>10:29</td>\n",
              "      <td>Injury</td>\n",
              "      <td>Struck pedestrian (Off Road)</td>\n",
              "      <td>1</td>\n",
              "      <td>1</td>\n",
              "      <td>BORROWDALE STREET (NORFOLK -&gt; BORROWDALE)</td>\n",
              "      <td>(-35.342443, 149.12875)</td>\n",
              "    </tr>\n",
              "    <tr>\n",
              "      <th>2</th>\n",
              "      <td>2019-06-08</td>\n",
              "      <td>1214139</td>\n",
              "      <td>12:16</td>\n",
              "      <td>Property Damage Only</td>\n",
              "      <td>Struck pedestrian (Off Road)</td>\n",
              "      <td>1</td>\n",
              "      <td>0</td>\n",
              "      <td>FLEMINGTON/NULLARBOR INTERSECTION</td>\n",
              "      <td>(-35.201011, 149.149205)</td>\n",
              "    </tr>\n",
              "    <tr>\n",
              "      <th>3</th>\n",
              "      <td>2012-03-05</td>\n",
              "      <td>1057306</td>\n",
              "      <td>16:40</td>\n",
              "      <td>Fatal</td>\n",
              "      <td>Struck pedestrian (On Road)</td>\n",
              "      <td>2</td>\n",
              "      <td>2</td>\n",
              "      <td>BATESON/YAMBA INTERSECTION</td>\n",
              "      <td>(-35.347313, 149.099872)</td>\n",
              "    </tr>\n",
              "    <tr>\n",
              "      <th>4</th>\n",
              "      <td>2012-09-25</td>\n",
              "      <td>1046532</td>\n",
              "      <td>10:16</td>\n",
              "      <td>Injury</td>\n",
              "      <td>Struck pedestrian (On Road)</td>\n",
              "      <td>1</td>\n",
              "      <td>1</td>\n",
              "      <td>BRISBANE AVENUE (JOHN MCEWEN -&gt; STATE)</td>\n",
              "      <td>(-35.308829, 149.130814)</td>\n",
              "    </tr>\n",
              "  </tbody>\n",
              "</table>\n",
              "</div>"
            ],
            "text/plain": [
              "  crash_date  ...                  Location\n",
              "0 2017-01-23  ...   (-35.23191, 149.054575)\n",
              "1 2016-05-09  ...   (-35.342443, 149.12875)\n",
              "2 2019-06-08  ...  (-35.201011, 149.149205)\n",
              "3 2012-03-05  ...  (-35.347313, 149.099872)\n",
              "4 2012-09-25  ...  (-35.308829, 149.130814)\n",
              "\n",
              "[5 rows x 9 columns]"
            ]
          },
          "metadata": {
            "tags": []
          },
          "execution_count": 22
        }
      ]
    },
    {
      "cell_type": "code",
      "metadata": {
        "id": "MmRp0xm13GGx",
        "colab_type": "code",
        "outputId": "7a31f417-9825-410c-f475-9684d84e1537",
        "colab": {
          "base_uri": "https://localhost:8080/",
          "height": 238
        }
      },
      "source": [
        "# Note - we assign the result of the operation back to the original dataframe\n",
        "act_data.head()"
      ],
      "execution_count": 0,
      "outputs": [
        {
          "output_type": "execute_result",
          "data": {
            "text/html": [
              "<div>\n",
              "<style scoped>\n",
              "    .dataframe tbody tr th:only-of-type {\n",
              "        vertical-align: middle;\n",
              "    }\n",
              "\n",
              "    .dataframe tbody tr th {\n",
              "        vertical-align: top;\n",
              "    }\n",
              "\n",
              "    .dataframe thead th {\n",
              "        text-align: right;\n",
              "    }\n",
              "</style>\n",
              "<table border=\"1\" class=\"dataframe\">\n",
              "  <thead>\n",
              "    <tr style=\"text-align: right;\">\n",
              "      <th></th>\n",
              "      <th>Crash_Time</th>\n",
              "      <th>Severity</th>\n",
              "      <th>Crash_Type</th>\n",
              "      <th>Pedestrians</th>\n",
              "      <th>Casualties</th>\n",
              "      <th>Location</th>\n",
              "      <th>Location</th>\n",
              "    </tr>\n",
              "    <tr>\n",
              "      <th>crash_date</th>\n",
              "      <th></th>\n",
              "      <th></th>\n",
              "      <th></th>\n",
              "      <th></th>\n",
              "      <th></th>\n",
              "      <th></th>\n",
              "      <th></th>\n",
              "    </tr>\n",
              "  </thead>\n",
              "  <tbody>\n",
              "    <tr>\n",
              "      <th>2017-01-23</th>\n",
              "      <td>16:00</td>\n",
              "      <td>Injury</td>\n",
              "      <td>Struck pedestrian (On Road)</td>\n",
              "      <td>1</td>\n",
              "      <td>1</td>\n",
              "      <td>RATCLIFFE CRESCENT (CHALLINOR -&gt; CHALLINOR)</td>\n",
              "      <td>(-35.23191, 149.054575)</td>\n",
              "    </tr>\n",
              "    <tr>\n",
              "      <th>2016-05-09</th>\n",
              "      <td>10:29</td>\n",
              "      <td>Injury</td>\n",
              "      <td>Struck pedestrian (Off Road)</td>\n",
              "      <td>1</td>\n",
              "      <td>1</td>\n",
              "      <td>BORROWDALE STREET (NORFOLK -&gt; BORROWDALE)</td>\n",
              "      <td>(-35.342443, 149.12875)</td>\n",
              "    </tr>\n",
              "    <tr>\n",
              "      <th>2019-06-08</th>\n",
              "      <td>12:16</td>\n",
              "      <td>Property Damage Only</td>\n",
              "      <td>Struck pedestrian (Off Road)</td>\n",
              "      <td>1</td>\n",
              "      <td>0</td>\n",
              "      <td>FLEMINGTON/NULLARBOR INTERSECTION</td>\n",
              "      <td>(-35.201011, 149.149205)</td>\n",
              "    </tr>\n",
              "    <tr>\n",
              "      <th>2012-03-05</th>\n",
              "      <td>16:40</td>\n",
              "      <td>Fatal</td>\n",
              "      <td>Struck pedestrian (On Road)</td>\n",
              "      <td>2</td>\n",
              "      <td>2</td>\n",
              "      <td>BATESON/YAMBA INTERSECTION</td>\n",
              "      <td>(-35.347313, 149.099872)</td>\n",
              "    </tr>\n",
              "    <tr>\n",
              "      <th>2012-09-25</th>\n",
              "      <td>10:16</td>\n",
              "      <td>Injury</td>\n",
              "      <td>Struck pedestrian (On Road)</td>\n",
              "      <td>1</td>\n",
              "      <td>1</td>\n",
              "      <td>BRISBANE AVENUE (JOHN MCEWEN -&gt; STATE)</td>\n",
              "      <td>(-35.308829, 149.130814)</td>\n",
              "    </tr>\n",
              "  </tbody>\n",
              "</table>\n",
              "</div>"
            ],
            "text/plain": [
              "           Crash_Time  ...                  Location\n",
              "crash_date             ...                          \n",
              "2017-01-23      16:00  ...   (-35.23191, 149.054575)\n",
              "2016-05-09      10:29  ...   (-35.342443, 149.12875)\n",
              "2019-06-08      12:16  ...  (-35.201011, 149.149205)\n",
              "2012-03-05      16:40  ...  (-35.347313, 149.099872)\n",
              "2012-09-25      10:16  ...  (-35.308829, 149.130814)\n",
              "\n",
              "[5 rows x 7 columns]"
            ]
          },
          "metadata": {
            "tags": []
          },
          "execution_count": 13
        }
      ]
    },
    {
      "cell_type": "markdown",
      "metadata": {
        "id": "UV00z9boiJat",
        "colab_type": "text"
      },
      "source": [
        "To drop a column:"
      ]
    },
    {
      "cell_type": "code",
      "metadata": {
        "id": "iNajU1qbiNFK",
        "colab_type": "code",
        "colab": {}
      },
      "source": [
        "# Crash ID comes from the ACT Open Data Portal\n",
        "# It has been treated as a numeric value (and thus shows up in \"act_data.describe()\" above)\n",
        "# BUT it doesn't represent a numeric value\n",
        "# So we can drop it from the dataframe\n",
        "\n",
        "act_data = act_data.drop(columns=['Crash ID'])\n",
        "\n",
        "# Note - we assign the result of the operation back to the original dataframe"
      ],
      "execution_count": 0,
      "outputs": []
    },
    {
      "cell_type": "markdown",
      "metadata": {
        "id": "ULHZjrNWi7eM",
        "colab_type": "text"
      },
      "source": [
        "To add a computed value column:"
      ]
    },
    {
      "cell_type": "code",
      "metadata": {
        "id": "osXrRGU7i-0h",
        "colab_type": "code",
        "outputId": "eda4c929-ff4c-4621-8a51-d86390864835",
        "colab": {
          "base_uri": "https://localhost:8080/",
          "height": 256
        }
      },
      "source": [
        "# Create a column for the day of week of the crash\n",
        "act_data['day_name'] = act_data.index.day_name()\n",
        "\n",
        "# Create a 'crash_year' column from the crash_date\n",
        "\n",
        "# Version 1: get the year from the \"dt\" (datetime) value of the crash_date\n",
        "act_data[\"crash_year\"] = act_data.index.year\n",
        "# Version 2: Lambda function\n",
        "# act_data[\"crash_year\"] = act_data.crash_date.map(lambda x: x.strftime('%Y'))\n",
        "# Show the contents of the new column\n",
        "act_data.crash_year"
      ],
      "execution_count": 0,
      "outputs": [
        {
          "output_type": "execute_result",
          "data": {
            "text/plain": [
              "crash_date\n",
              "2017-01-23    2017\n",
              "2016-05-09    2016\n",
              "2019-06-08    2019\n",
              "2012-03-05    2012\n",
              "2012-09-25    2012\n",
              "              ... \n",
              "2017-08-22    2017\n",
              "2019-04-28    2019\n",
              "2018-12-28    2018\n",
              "2019-04-15    2019\n",
              "2015-07-08    2015\n",
              "Name: crash_year, Length: 479, dtype: int64"
            ]
          },
          "metadata": {
            "tags": []
          },
          "execution_count": 15
        }
      ]
    },
    {
      "cell_type": "markdown",
      "metadata": {
        "id": "ZfJyNJlmiyNj",
        "colab_type": "text"
      },
      "source": [
        "# Plotting Data\n",
        "\n",
        "Pandas uses **MatPlotLib** to plot data.\n",
        "You can also use MatPlotLib directly.\n",
        "\n",
        "The plot() function takes parameters similar to MatPlotLib\n",
        "\n",
        "You can call plot on any \"plottable\" value (quantifiable data).\n",
        "\n",
        "For example - lets plot the whole dataframe"
      ]
    },
    {
      "cell_type": "code",
      "metadata": {
        "id": "rllYfW-9ok4X",
        "colab_type": "code",
        "outputId": "43630029-1427-4aed-cd40-2deb8f17b6e1",
        "colab": {
          "base_uri": "https://localhost:8080/",
          "height": 435
        }
      },
      "source": [
        "act_data.plot()\n",
        "# This does not work - as the datetime values confuse pandas\n",
        "#   - how should they be interpreted?\n",
        "#   - what axes do we wish to use\n",
        "#   - pandas best guess fails"
      ],
      "execution_count": 0,
      "outputs": [
        {
          "output_type": "execute_result",
          "data": {
            "text/plain": [
              "<matplotlib.axes._subplots.AxesSubplot at 0x7fc79840cb70>"
            ]
          },
          "metadata": {
            "tags": []
          },
          "execution_count": 24
        },
        {
          "output_type": "error",
          "ename": "ValueError",
          "evalue": "ignored",
          "traceback": [
            "\u001b[0;31m---------------------------------------------------------------------------\u001b[0m",
            "\u001b[0;31mValueError\u001b[0m                                Traceback (most recent call last)",
            "\u001b[0;32m/usr/local/lib/python3.6/dist-packages/IPython/core/formatters.py\u001b[0m in \u001b[0;36m__call__\u001b[0;34m(self, obj)\u001b[0m\n\u001b[1;32m    332\u001b[0m                 \u001b[0;32mpass\u001b[0m\u001b[0;34m\u001b[0m\u001b[0;34m\u001b[0m\u001b[0m\n\u001b[1;32m    333\u001b[0m             \u001b[0;32melse\u001b[0m\u001b[0;34m:\u001b[0m\u001b[0;34m\u001b[0m\u001b[0;34m\u001b[0m\u001b[0m\n\u001b[0;32m--> 334\u001b[0;31m                 \u001b[0;32mreturn\u001b[0m \u001b[0mprinter\u001b[0m\u001b[0;34m(\u001b[0m\u001b[0mobj\u001b[0m\u001b[0;34m)\u001b[0m\u001b[0;34m\u001b[0m\u001b[0;34m\u001b[0m\u001b[0m\n\u001b[0m\u001b[1;32m    335\u001b[0m             \u001b[0;31m# Finally look for special method names\u001b[0m\u001b[0;34m\u001b[0m\u001b[0;34m\u001b[0m\u001b[0;34m\u001b[0m\u001b[0m\n\u001b[1;32m    336\u001b[0m             \u001b[0mmethod\u001b[0m \u001b[0;34m=\u001b[0m \u001b[0mget_real_method\u001b[0m\u001b[0;34m(\u001b[0m\u001b[0mobj\u001b[0m\u001b[0;34m,\u001b[0m \u001b[0mself\u001b[0m\u001b[0;34m.\u001b[0m\u001b[0mprint_method\u001b[0m\u001b[0;34m)\u001b[0m\u001b[0;34m\u001b[0m\u001b[0;34m\u001b[0m\u001b[0m\n",
            "\u001b[0;32m/usr/local/lib/python3.6/dist-packages/IPython/core/pylabtools.py\u001b[0m in \u001b[0;36m<lambda>\u001b[0;34m(fig)\u001b[0m\n\u001b[1;32m    239\u001b[0m \u001b[0;34m\u001b[0m\u001b[0m\n\u001b[1;32m    240\u001b[0m     \u001b[0;32mif\u001b[0m \u001b[0;34m'png'\u001b[0m \u001b[0;32min\u001b[0m \u001b[0mformats\u001b[0m\u001b[0;34m:\u001b[0m\u001b[0;34m\u001b[0m\u001b[0;34m\u001b[0m\u001b[0m\n\u001b[0;32m--> 241\u001b[0;31m         \u001b[0mpng_formatter\u001b[0m\u001b[0;34m.\u001b[0m\u001b[0mfor_type\u001b[0m\u001b[0;34m(\u001b[0m\u001b[0mFigure\u001b[0m\u001b[0;34m,\u001b[0m \u001b[0;32mlambda\u001b[0m \u001b[0mfig\u001b[0m\u001b[0;34m:\u001b[0m \u001b[0mprint_figure\u001b[0m\u001b[0;34m(\u001b[0m\u001b[0mfig\u001b[0m\u001b[0;34m,\u001b[0m \u001b[0;34m'png'\u001b[0m\u001b[0;34m,\u001b[0m \u001b[0;34m**\u001b[0m\u001b[0mkwargs\u001b[0m\u001b[0;34m)\u001b[0m\u001b[0;34m)\u001b[0m\u001b[0;34m\u001b[0m\u001b[0;34m\u001b[0m\u001b[0m\n\u001b[0m\u001b[1;32m    242\u001b[0m     \u001b[0;32mif\u001b[0m \u001b[0;34m'retina'\u001b[0m \u001b[0;32min\u001b[0m \u001b[0mformats\u001b[0m \u001b[0;32mor\u001b[0m \u001b[0;34m'png2x'\u001b[0m \u001b[0;32min\u001b[0m \u001b[0mformats\u001b[0m\u001b[0;34m:\u001b[0m\u001b[0;34m\u001b[0m\u001b[0;34m\u001b[0m\u001b[0m\n\u001b[1;32m    243\u001b[0m         \u001b[0mpng_formatter\u001b[0m\u001b[0;34m.\u001b[0m\u001b[0mfor_type\u001b[0m\u001b[0;34m(\u001b[0m\u001b[0mFigure\u001b[0m\u001b[0;34m,\u001b[0m \u001b[0;32mlambda\u001b[0m \u001b[0mfig\u001b[0m\u001b[0;34m:\u001b[0m \u001b[0mretina_figure\u001b[0m\u001b[0;34m(\u001b[0m\u001b[0mfig\u001b[0m\u001b[0;34m,\u001b[0m \u001b[0;34m**\u001b[0m\u001b[0mkwargs\u001b[0m\u001b[0;34m)\u001b[0m\u001b[0;34m)\u001b[0m\u001b[0;34m\u001b[0m\u001b[0;34m\u001b[0m\u001b[0m\n",
            "\u001b[0;32m/usr/local/lib/python3.6/dist-packages/IPython/core/pylabtools.py\u001b[0m in \u001b[0;36mprint_figure\u001b[0;34m(fig, fmt, bbox_inches, **kwargs)\u001b[0m\n\u001b[1;32m    123\u001b[0m \u001b[0;34m\u001b[0m\u001b[0m\n\u001b[1;32m    124\u001b[0m     \u001b[0mbytes_io\u001b[0m \u001b[0;34m=\u001b[0m \u001b[0mBytesIO\u001b[0m\u001b[0;34m(\u001b[0m\u001b[0;34m)\u001b[0m\u001b[0;34m\u001b[0m\u001b[0;34m\u001b[0m\u001b[0m\n\u001b[0;32m--> 125\u001b[0;31m     \u001b[0mfig\u001b[0m\u001b[0;34m.\u001b[0m\u001b[0mcanvas\u001b[0m\u001b[0;34m.\u001b[0m\u001b[0mprint_figure\u001b[0m\u001b[0;34m(\u001b[0m\u001b[0mbytes_io\u001b[0m\u001b[0;34m,\u001b[0m \u001b[0;34m**\u001b[0m\u001b[0mkw\u001b[0m\u001b[0;34m)\u001b[0m\u001b[0;34m\u001b[0m\u001b[0;34m\u001b[0m\u001b[0m\n\u001b[0m\u001b[1;32m    126\u001b[0m     \u001b[0mdata\u001b[0m \u001b[0;34m=\u001b[0m \u001b[0mbytes_io\u001b[0m\u001b[0;34m.\u001b[0m\u001b[0mgetvalue\u001b[0m\u001b[0;34m(\u001b[0m\u001b[0;34m)\u001b[0m\u001b[0;34m\u001b[0m\u001b[0;34m\u001b[0m\u001b[0m\n\u001b[1;32m    127\u001b[0m     \u001b[0;32mif\u001b[0m \u001b[0mfmt\u001b[0m \u001b[0;34m==\u001b[0m \u001b[0;34m'svg'\u001b[0m\u001b[0;34m:\u001b[0m\u001b[0;34m\u001b[0m\u001b[0;34m\u001b[0m\u001b[0m\n",
            "\u001b[0;32m/usr/local/lib/python3.6/dist-packages/matplotlib/backend_bases.py\u001b[0m in \u001b[0;36mprint_figure\u001b[0;34m(self, filename, dpi, facecolor, edgecolor, orientation, format, bbox_inches, **kwargs)\u001b[0m\n\u001b[1;32m   2061\u001b[0m                         \u001b[0morientation\u001b[0m\u001b[0;34m=\u001b[0m\u001b[0morientation\u001b[0m\u001b[0;34m,\u001b[0m\u001b[0;34m\u001b[0m\u001b[0;34m\u001b[0m\u001b[0m\n\u001b[1;32m   2062\u001b[0m                         \u001b[0mdryrun\u001b[0m\u001b[0;34m=\u001b[0m\u001b[0;32mTrue\u001b[0m\u001b[0;34m,\u001b[0m\u001b[0;34m\u001b[0m\u001b[0;34m\u001b[0m\u001b[0m\n\u001b[0;32m-> 2063\u001b[0;31m                         **kwargs)\n\u001b[0m\u001b[1;32m   2064\u001b[0m                     \u001b[0mrenderer\u001b[0m \u001b[0;34m=\u001b[0m \u001b[0mself\u001b[0m\u001b[0;34m.\u001b[0m\u001b[0mfigure\u001b[0m\u001b[0;34m.\u001b[0m\u001b[0m_cachedRenderer\u001b[0m\u001b[0;34m\u001b[0m\u001b[0;34m\u001b[0m\u001b[0m\n\u001b[1;32m   2065\u001b[0m                     \u001b[0mbbox_artists\u001b[0m \u001b[0;34m=\u001b[0m \u001b[0mkwargs\u001b[0m\u001b[0;34m.\u001b[0m\u001b[0mpop\u001b[0m\u001b[0;34m(\u001b[0m\u001b[0;34m\"bbox_extra_artists\"\u001b[0m\u001b[0;34m,\u001b[0m \u001b[0;32mNone\u001b[0m\u001b[0;34m)\u001b[0m\u001b[0;34m\u001b[0m\u001b[0;34m\u001b[0m\u001b[0m\n",
            "\u001b[0;32m/usr/local/lib/python3.6/dist-packages/matplotlib/backends/backend_agg.py\u001b[0m in \u001b[0;36mprint_png\u001b[0;34m(self, filename_or_obj, metadata, pil_kwargs, *args, **kwargs)\u001b[0m\n\u001b[1;32m    525\u001b[0m \u001b[0;34m\u001b[0m\u001b[0m\n\u001b[1;32m    526\u001b[0m         \u001b[0;32melse\u001b[0m\u001b[0;34m:\u001b[0m\u001b[0;34m\u001b[0m\u001b[0;34m\u001b[0m\u001b[0m\n\u001b[0;32m--> 527\u001b[0;31m             \u001b[0mFigureCanvasAgg\u001b[0m\u001b[0;34m.\u001b[0m\u001b[0mdraw\u001b[0m\u001b[0;34m(\u001b[0m\u001b[0mself\u001b[0m\u001b[0;34m)\u001b[0m\u001b[0;34m\u001b[0m\u001b[0;34m\u001b[0m\u001b[0m\n\u001b[0m\u001b[1;32m    528\u001b[0m             \u001b[0mrenderer\u001b[0m \u001b[0;34m=\u001b[0m \u001b[0mself\u001b[0m\u001b[0;34m.\u001b[0m\u001b[0mget_renderer\u001b[0m\u001b[0;34m(\u001b[0m\u001b[0;34m)\u001b[0m\u001b[0;34m\u001b[0m\u001b[0;34m\u001b[0m\u001b[0m\n\u001b[1;32m    529\u001b[0m             \u001b[0;32mwith\u001b[0m \u001b[0mcbook\u001b[0m\u001b[0;34m.\u001b[0m\u001b[0m_setattr_cm\u001b[0m\u001b[0;34m(\u001b[0m\u001b[0mrenderer\u001b[0m\u001b[0;34m,\u001b[0m \u001b[0mdpi\u001b[0m\u001b[0;34m=\u001b[0m\u001b[0mself\u001b[0m\u001b[0;34m.\u001b[0m\u001b[0mfigure\u001b[0m\u001b[0;34m.\u001b[0m\u001b[0mdpi\u001b[0m\u001b[0;34m)\u001b[0m\u001b[0;34m,\u001b[0m\u001b[0;31m \u001b[0m\u001b[0;31m\\\u001b[0m\u001b[0;34m\u001b[0m\u001b[0;34m\u001b[0m\u001b[0m\n",
            "\u001b[0;32m/usr/local/lib/python3.6/dist-packages/matplotlib/backends/backend_agg.py\u001b[0m in \u001b[0;36mdraw\u001b[0;34m(self)\u001b[0m\n\u001b[1;32m    386\u001b[0m         \u001b[0mself\u001b[0m\u001b[0;34m.\u001b[0m\u001b[0mrenderer\u001b[0m \u001b[0;34m=\u001b[0m \u001b[0mself\u001b[0m\u001b[0;34m.\u001b[0m\u001b[0mget_renderer\u001b[0m\u001b[0;34m(\u001b[0m\u001b[0mcleared\u001b[0m\u001b[0;34m=\u001b[0m\u001b[0;32mTrue\u001b[0m\u001b[0;34m)\u001b[0m\u001b[0;34m\u001b[0m\u001b[0;34m\u001b[0m\u001b[0m\n\u001b[1;32m    387\u001b[0m         \u001b[0;32mwith\u001b[0m \u001b[0mRendererAgg\u001b[0m\u001b[0;34m.\u001b[0m\u001b[0mlock\u001b[0m\u001b[0;34m:\u001b[0m\u001b[0;34m\u001b[0m\u001b[0;34m\u001b[0m\u001b[0m\n\u001b[0;32m--> 388\u001b[0;31m             \u001b[0mself\u001b[0m\u001b[0;34m.\u001b[0m\u001b[0mfigure\u001b[0m\u001b[0;34m.\u001b[0m\u001b[0mdraw\u001b[0m\u001b[0;34m(\u001b[0m\u001b[0mself\u001b[0m\u001b[0;34m.\u001b[0m\u001b[0mrenderer\u001b[0m\u001b[0;34m)\u001b[0m\u001b[0;34m\u001b[0m\u001b[0;34m\u001b[0m\u001b[0m\n\u001b[0m\u001b[1;32m    389\u001b[0m             \u001b[0;31m# A GUI class may be need to update a window using this draw, so\u001b[0m\u001b[0;34m\u001b[0m\u001b[0;34m\u001b[0m\u001b[0;34m\u001b[0m\u001b[0m\n\u001b[1;32m    390\u001b[0m             \u001b[0;31m# don't forget to call the superclass.\u001b[0m\u001b[0;34m\u001b[0m\u001b[0;34m\u001b[0m\u001b[0;34m\u001b[0m\u001b[0m\n",
            "\u001b[0;32m/usr/local/lib/python3.6/dist-packages/matplotlib/artist.py\u001b[0m in \u001b[0;36mdraw_wrapper\u001b[0;34m(artist, renderer, *args, **kwargs)\u001b[0m\n\u001b[1;32m     36\u001b[0m                 \u001b[0mrenderer\u001b[0m\u001b[0;34m.\u001b[0m\u001b[0mstart_filter\u001b[0m\u001b[0;34m(\u001b[0m\u001b[0;34m)\u001b[0m\u001b[0;34m\u001b[0m\u001b[0;34m\u001b[0m\u001b[0m\n\u001b[1;32m     37\u001b[0m \u001b[0;34m\u001b[0m\u001b[0m\n\u001b[0;32m---> 38\u001b[0;31m             \u001b[0;32mreturn\u001b[0m \u001b[0mdraw\u001b[0m\u001b[0;34m(\u001b[0m\u001b[0martist\u001b[0m\u001b[0;34m,\u001b[0m \u001b[0mrenderer\u001b[0m\u001b[0;34m,\u001b[0m \u001b[0;34m*\u001b[0m\u001b[0margs\u001b[0m\u001b[0;34m,\u001b[0m \u001b[0;34m**\u001b[0m\u001b[0mkwargs\u001b[0m\u001b[0;34m)\u001b[0m\u001b[0;34m\u001b[0m\u001b[0;34m\u001b[0m\u001b[0m\n\u001b[0m\u001b[1;32m     39\u001b[0m         \u001b[0;32mfinally\u001b[0m\u001b[0;34m:\u001b[0m\u001b[0;34m\u001b[0m\u001b[0;34m\u001b[0m\u001b[0m\n\u001b[1;32m     40\u001b[0m             \u001b[0;32mif\u001b[0m \u001b[0martist\u001b[0m\u001b[0;34m.\u001b[0m\u001b[0mget_agg_filter\u001b[0m\u001b[0;34m(\u001b[0m\u001b[0;34m)\u001b[0m \u001b[0;32mis\u001b[0m \u001b[0;32mnot\u001b[0m \u001b[0;32mNone\u001b[0m\u001b[0;34m:\u001b[0m\u001b[0;34m\u001b[0m\u001b[0;34m\u001b[0m\u001b[0m\n",
            "\u001b[0;32m/usr/local/lib/python3.6/dist-packages/matplotlib/figure.py\u001b[0m in \u001b[0;36mdraw\u001b[0;34m(self, renderer)\u001b[0m\n\u001b[1;32m   1707\u001b[0m             \u001b[0mself\u001b[0m\u001b[0;34m.\u001b[0m\u001b[0mpatch\u001b[0m\u001b[0;34m.\u001b[0m\u001b[0mdraw\u001b[0m\u001b[0;34m(\u001b[0m\u001b[0mrenderer\u001b[0m\u001b[0;34m)\u001b[0m\u001b[0;34m\u001b[0m\u001b[0;34m\u001b[0m\u001b[0m\n\u001b[1;32m   1708\u001b[0m             mimage._draw_list_compositing_images(\n\u001b[0;32m-> 1709\u001b[0;31m                 renderer, self, artists, self.suppressComposite)\n\u001b[0m\u001b[1;32m   1710\u001b[0m \u001b[0;34m\u001b[0m\u001b[0m\n\u001b[1;32m   1711\u001b[0m             \u001b[0mrenderer\u001b[0m\u001b[0;34m.\u001b[0m\u001b[0mclose_group\u001b[0m\u001b[0;34m(\u001b[0m\u001b[0;34m'figure'\u001b[0m\u001b[0;34m)\u001b[0m\u001b[0;34m\u001b[0m\u001b[0;34m\u001b[0m\u001b[0m\n",
            "\u001b[0;32m/usr/local/lib/python3.6/dist-packages/matplotlib/image.py\u001b[0m in \u001b[0;36m_draw_list_compositing_images\u001b[0;34m(renderer, parent, artists, suppress_composite)\u001b[0m\n\u001b[1;32m    133\u001b[0m     \u001b[0;32mif\u001b[0m \u001b[0mnot_composite\u001b[0m \u001b[0;32mor\u001b[0m \u001b[0;32mnot\u001b[0m \u001b[0mhas_images\u001b[0m\u001b[0;34m:\u001b[0m\u001b[0;34m\u001b[0m\u001b[0;34m\u001b[0m\u001b[0m\n\u001b[1;32m    134\u001b[0m         \u001b[0;32mfor\u001b[0m \u001b[0ma\u001b[0m \u001b[0;32min\u001b[0m \u001b[0martists\u001b[0m\u001b[0;34m:\u001b[0m\u001b[0;34m\u001b[0m\u001b[0;34m\u001b[0m\u001b[0m\n\u001b[0;32m--> 135\u001b[0;31m             \u001b[0ma\u001b[0m\u001b[0;34m.\u001b[0m\u001b[0mdraw\u001b[0m\u001b[0;34m(\u001b[0m\u001b[0mrenderer\u001b[0m\u001b[0;34m)\u001b[0m\u001b[0;34m\u001b[0m\u001b[0;34m\u001b[0m\u001b[0m\n\u001b[0m\u001b[1;32m    136\u001b[0m     \u001b[0;32melse\u001b[0m\u001b[0;34m:\u001b[0m\u001b[0;34m\u001b[0m\u001b[0;34m\u001b[0m\u001b[0m\n\u001b[1;32m    137\u001b[0m         \u001b[0;31m# Composite any adjacent images together\u001b[0m\u001b[0;34m\u001b[0m\u001b[0;34m\u001b[0m\u001b[0;34m\u001b[0m\u001b[0m\n",
            "\u001b[0;32m/usr/local/lib/python3.6/dist-packages/matplotlib/artist.py\u001b[0m in \u001b[0;36mdraw_wrapper\u001b[0;34m(artist, renderer, *args, **kwargs)\u001b[0m\n\u001b[1;32m     36\u001b[0m                 \u001b[0mrenderer\u001b[0m\u001b[0;34m.\u001b[0m\u001b[0mstart_filter\u001b[0m\u001b[0;34m(\u001b[0m\u001b[0;34m)\u001b[0m\u001b[0;34m\u001b[0m\u001b[0;34m\u001b[0m\u001b[0m\n\u001b[1;32m     37\u001b[0m \u001b[0;34m\u001b[0m\u001b[0m\n\u001b[0;32m---> 38\u001b[0;31m             \u001b[0;32mreturn\u001b[0m \u001b[0mdraw\u001b[0m\u001b[0;34m(\u001b[0m\u001b[0martist\u001b[0m\u001b[0;34m,\u001b[0m \u001b[0mrenderer\u001b[0m\u001b[0;34m,\u001b[0m \u001b[0;34m*\u001b[0m\u001b[0margs\u001b[0m\u001b[0;34m,\u001b[0m \u001b[0;34m**\u001b[0m\u001b[0mkwargs\u001b[0m\u001b[0;34m)\u001b[0m\u001b[0;34m\u001b[0m\u001b[0;34m\u001b[0m\u001b[0m\n\u001b[0m\u001b[1;32m     39\u001b[0m         \u001b[0;32mfinally\u001b[0m\u001b[0;34m:\u001b[0m\u001b[0;34m\u001b[0m\u001b[0;34m\u001b[0m\u001b[0m\n\u001b[1;32m     40\u001b[0m             \u001b[0;32mif\u001b[0m \u001b[0martist\u001b[0m\u001b[0;34m.\u001b[0m\u001b[0mget_agg_filter\u001b[0m\u001b[0;34m(\u001b[0m\u001b[0;34m)\u001b[0m \u001b[0;32mis\u001b[0m \u001b[0;32mnot\u001b[0m \u001b[0;32mNone\u001b[0m\u001b[0;34m:\u001b[0m\u001b[0;34m\u001b[0m\u001b[0;34m\u001b[0m\u001b[0m\n",
            "\u001b[0;32m/usr/local/lib/python3.6/dist-packages/matplotlib/axes/_base.py\u001b[0m in \u001b[0;36mdraw\u001b[0;34m(self, renderer, inframe)\u001b[0m\n\u001b[1;32m   2645\u001b[0m             \u001b[0mrenderer\u001b[0m\u001b[0;34m.\u001b[0m\u001b[0mstop_rasterizing\u001b[0m\u001b[0;34m(\u001b[0m\u001b[0;34m)\u001b[0m\u001b[0;34m\u001b[0m\u001b[0;34m\u001b[0m\u001b[0m\n\u001b[1;32m   2646\u001b[0m \u001b[0;34m\u001b[0m\u001b[0m\n\u001b[0;32m-> 2647\u001b[0;31m         \u001b[0mmimage\u001b[0m\u001b[0;34m.\u001b[0m\u001b[0m_draw_list_compositing_images\u001b[0m\u001b[0;34m(\u001b[0m\u001b[0mrenderer\u001b[0m\u001b[0;34m,\u001b[0m \u001b[0mself\u001b[0m\u001b[0;34m,\u001b[0m \u001b[0martists\u001b[0m\u001b[0;34m)\u001b[0m\u001b[0;34m\u001b[0m\u001b[0;34m\u001b[0m\u001b[0m\n\u001b[0m\u001b[1;32m   2648\u001b[0m \u001b[0;34m\u001b[0m\u001b[0m\n\u001b[1;32m   2649\u001b[0m         \u001b[0mrenderer\u001b[0m\u001b[0;34m.\u001b[0m\u001b[0mclose_group\u001b[0m\u001b[0;34m(\u001b[0m\u001b[0;34m'axes'\u001b[0m\u001b[0;34m)\u001b[0m\u001b[0;34m\u001b[0m\u001b[0;34m\u001b[0m\u001b[0m\n",
            "\u001b[0;32m/usr/local/lib/python3.6/dist-packages/matplotlib/image.py\u001b[0m in \u001b[0;36m_draw_list_compositing_images\u001b[0;34m(renderer, parent, artists, suppress_composite)\u001b[0m\n\u001b[1;32m    133\u001b[0m     \u001b[0;32mif\u001b[0m \u001b[0mnot_composite\u001b[0m \u001b[0;32mor\u001b[0m \u001b[0;32mnot\u001b[0m \u001b[0mhas_images\u001b[0m\u001b[0;34m:\u001b[0m\u001b[0;34m\u001b[0m\u001b[0;34m\u001b[0m\u001b[0m\n\u001b[1;32m    134\u001b[0m         \u001b[0;32mfor\u001b[0m \u001b[0ma\u001b[0m \u001b[0;32min\u001b[0m \u001b[0martists\u001b[0m\u001b[0;34m:\u001b[0m\u001b[0;34m\u001b[0m\u001b[0;34m\u001b[0m\u001b[0m\n\u001b[0;32m--> 135\u001b[0;31m             \u001b[0ma\u001b[0m\u001b[0;34m.\u001b[0m\u001b[0mdraw\u001b[0m\u001b[0;34m(\u001b[0m\u001b[0mrenderer\u001b[0m\u001b[0;34m)\u001b[0m\u001b[0;34m\u001b[0m\u001b[0;34m\u001b[0m\u001b[0m\n\u001b[0m\u001b[1;32m    136\u001b[0m     \u001b[0;32melse\u001b[0m\u001b[0;34m:\u001b[0m\u001b[0;34m\u001b[0m\u001b[0;34m\u001b[0m\u001b[0m\n\u001b[1;32m    137\u001b[0m         \u001b[0;31m# Composite any adjacent images together\u001b[0m\u001b[0;34m\u001b[0m\u001b[0;34m\u001b[0m\u001b[0;34m\u001b[0m\u001b[0m\n",
            "\u001b[0;32m/usr/local/lib/python3.6/dist-packages/matplotlib/artist.py\u001b[0m in \u001b[0;36mdraw_wrapper\u001b[0;34m(artist, renderer, *args, **kwargs)\u001b[0m\n\u001b[1;32m     36\u001b[0m                 \u001b[0mrenderer\u001b[0m\u001b[0;34m.\u001b[0m\u001b[0mstart_filter\u001b[0m\u001b[0;34m(\u001b[0m\u001b[0;34m)\u001b[0m\u001b[0;34m\u001b[0m\u001b[0;34m\u001b[0m\u001b[0m\n\u001b[1;32m     37\u001b[0m \u001b[0;34m\u001b[0m\u001b[0m\n\u001b[0;32m---> 38\u001b[0;31m             \u001b[0;32mreturn\u001b[0m \u001b[0mdraw\u001b[0m\u001b[0;34m(\u001b[0m\u001b[0martist\u001b[0m\u001b[0;34m,\u001b[0m \u001b[0mrenderer\u001b[0m\u001b[0;34m,\u001b[0m \u001b[0;34m*\u001b[0m\u001b[0margs\u001b[0m\u001b[0;34m,\u001b[0m \u001b[0;34m**\u001b[0m\u001b[0mkwargs\u001b[0m\u001b[0;34m)\u001b[0m\u001b[0;34m\u001b[0m\u001b[0;34m\u001b[0m\u001b[0m\n\u001b[0m\u001b[1;32m     39\u001b[0m         \u001b[0;32mfinally\u001b[0m\u001b[0;34m:\u001b[0m\u001b[0;34m\u001b[0m\u001b[0;34m\u001b[0m\u001b[0m\n\u001b[1;32m     40\u001b[0m             \u001b[0;32mif\u001b[0m \u001b[0martist\u001b[0m\u001b[0;34m.\u001b[0m\u001b[0mget_agg_filter\u001b[0m\u001b[0;34m(\u001b[0m\u001b[0;34m)\u001b[0m \u001b[0;32mis\u001b[0m \u001b[0;32mnot\u001b[0m \u001b[0;32mNone\u001b[0m\u001b[0;34m:\u001b[0m\u001b[0;34m\u001b[0m\u001b[0;34m\u001b[0m\u001b[0m\n",
            "\u001b[0;32m/usr/local/lib/python3.6/dist-packages/matplotlib/axis.py\u001b[0m in \u001b[0;36mdraw\u001b[0;34m(self, renderer, *args, **kwargs)\u001b[0m\n\u001b[1;32m   1201\u001b[0m         \u001b[0mrenderer\u001b[0m\u001b[0;34m.\u001b[0m\u001b[0mopen_group\u001b[0m\u001b[0;34m(\u001b[0m\u001b[0m__name__\u001b[0m\u001b[0;34m)\u001b[0m\u001b[0;34m\u001b[0m\u001b[0;34m\u001b[0m\u001b[0m\n\u001b[1;32m   1202\u001b[0m \u001b[0;34m\u001b[0m\u001b[0m\n\u001b[0;32m-> 1203\u001b[0;31m         \u001b[0mticks_to_draw\u001b[0m \u001b[0;34m=\u001b[0m \u001b[0mself\u001b[0m\u001b[0;34m.\u001b[0m\u001b[0m_update_ticks\u001b[0m\u001b[0;34m(\u001b[0m\u001b[0;34m)\u001b[0m\u001b[0;34m\u001b[0m\u001b[0;34m\u001b[0m\u001b[0m\n\u001b[0m\u001b[1;32m   1204\u001b[0m         ticklabelBoxes, ticklabelBoxes2 = self._get_tick_bboxes(ticks_to_draw,\n\u001b[1;32m   1205\u001b[0m                                                                 renderer)\n",
            "\u001b[0;32m/usr/local/lib/python3.6/dist-packages/matplotlib/axis.py\u001b[0m in \u001b[0;36m_update_ticks\u001b[0;34m(self)\u001b[0m\n\u001b[1;32m   1077\u001b[0m         \u001b[0mthe\u001b[0m \u001b[0maxes\u001b[0m\u001b[0;34m.\u001b[0m  \u001b[0mReturn\u001b[0m \u001b[0mthe\u001b[0m \u001b[0mlist\u001b[0m \u001b[0mof\u001b[0m \u001b[0mticks\u001b[0m \u001b[0mthat\u001b[0m \u001b[0mwill\u001b[0m \u001b[0mbe\u001b[0m \u001b[0mdrawn\u001b[0m\u001b[0;34m.\u001b[0m\u001b[0;34m\u001b[0m\u001b[0;34m\u001b[0m\u001b[0m\n\u001b[1;32m   1078\u001b[0m         \"\"\"\n\u001b[0;32m-> 1079\u001b[0;31m         \u001b[0mmajor_locs\u001b[0m \u001b[0;34m=\u001b[0m \u001b[0mself\u001b[0m\u001b[0;34m.\u001b[0m\u001b[0mget_majorticklocs\u001b[0m\u001b[0;34m(\u001b[0m\u001b[0;34m)\u001b[0m\u001b[0;34m\u001b[0m\u001b[0;34m\u001b[0m\u001b[0m\n\u001b[0m\u001b[1;32m   1080\u001b[0m         \u001b[0mmajor_labels\u001b[0m \u001b[0;34m=\u001b[0m \u001b[0mself\u001b[0m\u001b[0;34m.\u001b[0m\u001b[0mmajor\u001b[0m\u001b[0;34m.\u001b[0m\u001b[0mformatter\u001b[0m\u001b[0;34m.\u001b[0m\u001b[0mformat_ticks\u001b[0m\u001b[0;34m(\u001b[0m\u001b[0mmajor_locs\u001b[0m\u001b[0;34m)\u001b[0m\u001b[0;34m\u001b[0m\u001b[0;34m\u001b[0m\u001b[0m\n\u001b[1;32m   1081\u001b[0m         \u001b[0mmajor_ticks\u001b[0m \u001b[0;34m=\u001b[0m \u001b[0mself\u001b[0m\u001b[0;34m.\u001b[0m\u001b[0mget_major_ticks\u001b[0m\u001b[0;34m(\u001b[0m\u001b[0mlen\u001b[0m\u001b[0;34m(\u001b[0m\u001b[0mmajor_locs\u001b[0m\u001b[0;34m)\u001b[0m\u001b[0;34m)\u001b[0m\u001b[0;34m\u001b[0m\u001b[0;34m\u001b[0m\u001b[0m\n",
            "\u001b[0;32m/usr/local/lib/python3.6/dist-packages/matplotlib/axis.py\u001b[0m in \u001b[0;36mget_majorticklocs\u001b[0;34m(self)\u001b[0m\n\u001b[1;32m   1322\u001b[0m     \u001b[0;32mdef\u001b[0m \u001b[0mget_majorticklocs\u001b[0m\u001b[0;34m(\u001b[0m\u001b[0mself\u001b[0m\u001b[0;34m)\u001b[0m\u001b[0;34m:\u001b[0m\u001b[0;34m\u001b[0m\u001b[0;34m\u001b[0m\u001b[0m\n\u001b[1;32m   1323\u001b[0m         \u001b[0;34m\"\"\"Get the array of major tick locations in data coordinates.\"\"\"\u001b[0m\u001b[0;34m\u001b[0m\u001b[0;34m\u001b[0m\u001b[0m\n\u001b[0;32m-> 1324\u001b[0;31m         \u001b[0;32mreturn\u001b[0m \u001b[0mself\u001b[0m\u001b[0;34m.\u001b[0m\u001b[0mmajor\u001b[0m\u001b[0;34m.\u001b[0m\u001b[0mlocator\u001b[0m\u001b[0;34m(\u001b[0m\u001b[0;34m)\u001b[0m\u001b[0;34m\u001b[0m\u001b[0;34m\u001b[0m\u001b[0m\n\u001b[0m\u001b[1;32m   1325\u001b[0m \u001b[0;34m\u001b[0m\u001b[0m\n\u001b[1;32m   1326\u001b[0m     \u001b[0;32mdef\u001b[0m \u001b[0mget_minorticklocs\u001b[0m\u001b[0;34m(\u001b[0m\u001b[0mself\u001b[0m\u001b[0;34m)\u001b[0m\u001b[0;34m:\u001b[0m\u001b[0;34m\u001b[0m\u001b[0;34m\u001b[0m\u001b[0m\n",
            "\u001b[0;32m/usr/local/lib/python3.6/dist-packages/matplotlib/dates.py\u001b[0m in \u001b[0;36m__call__\u001b[0;34m(self)\u001b[0m\n\u001b[1;32m   1426\u001b[0m     \u001b[0;32mdef\u001b[0m \u001b[0m__call__\u001b[0m\u001b[0;34m(\u001b[0m\u001b[0mself\u001b[0m\u001b[0;34m)\u001b[0m\u001b[0;34m:\u001b[0m\u001b[0;34m\u001b[0m\u001b[0;34m\u001b[0m\u001b[0m\n\u001b[1;32m   1427\u001b[0m         \u001b[0;34m'Return the locations of the ticks'\u001b[0m\u001b[0;34m\u001b[0m\u001b[0;34m\u001b[0m\u001b[0m\n\u001b[0;32m-> 1428\u001b[0;31m         \u001b[0mself\u001b[0m\u001b[0;34m.\u001b[0m\u001b[0mrefresh\u001b[0m\u001b[0;34m(\u001b[0m\u001b[0;34m)\u001b[0m\u001b[0;34m\u001b[0m\u001b[0;34m\u001b[0m\u001b[0m\n\u001b[0m\u001b[1;32m   1429\u001b[0m         \u001b[0;32mreturn\u001b[0m \u001b[0mself\u001b[0m\u001b[0;34m.\u001b[0m\u001b[0m_locator\u001b[0m\u001b[0;34m(\u001b[0m\u001b[0;34m)\u001b[0m\u001b[0;34m\u001b[0m\u001b[0;34m\u001b[0m\u001b[0m\n\u001b[1;32m   1430\u001b[0m \u001b[0;34m\u001b[0m\u001b[0m\n",
            "\u001b[0;32m/usr/local/lib/python3.6/dist-packages/matplotlib/dates.py\u001b[0m in \u001b[0;36mrefresh\u001b[0;34m(self)\u001b[0m\n\u001b[1;32m   1446\u001b[0m     \u001b[0;32mdef\u001b[0m \u001b[0mrefresh\u001b[0m\u001b[0;34m(\u001b[0m\u001b[0mself\u001b[0m\u001b[0;34m)\u001b[0m\u001b[0;34m:\u001b[0m\u001b[0;34m\u001b[0m\u001b[0;34m\u001b[0m\u001b[0m\n\u001b[1;32m   1447\u001b[0m         \u001b[0;34m'Refresh internal information based on current limits.'\u001b[0m\u001b[0;34m\u001b[0m\u001b[0;34m\u001b[0m\u001b[0m\n\u001b[0;32m-> 1448\u001b[0;31m         \u001b[0mdmin\u001b[0m\u001b[0;34m,\u001b[0m \u001b[0mdmax\u001b[0m \u001b[0;34m=\u001b[0m \u001b[0mself\u001b[0m\u001b[0;34m.\u001b[0m\u001b[0mviewlim_to_dt\u001b[0m\u001b[0;34m(\u001b[0m\u001b[0;34m)\u001b[0m\u001b[0;34m\u001b[0m\u001b[0;34m\u001b[0m\u001b[0m\n\u001b[0m\u001b[1;32m   1449\u001b[0m         \u001b[0mself\u001b[0m\u001b[0;34m.\u001b[0m\u001b[0m_locator\u001b[0m \u001b[0;34m=\u001b[0m \u001b[0mself\u001b[0m\u001b[0;34m.\u001b[0m\u001b[0mget_locator\u001b[0m\u001b[0;34m(\u001b[0m\u001b[0mdmin\u001b[0m\u001b[0;34m,\u001b[0m \u001b[0mdmax\u001b[0m\u001b[0;34m)\u001b[0m\u001b[0;34m\u001b[0m\u001b[0;34m\u001b[0m\u001b[0m\n\u001b[1;32m   1450\u001b[0m \u001b[0;34m\u001b[0m\u001b[0m\n",
            "\u001b[0;32m/usr/local/lib/python3.6/dist-packages/matplotlib/dates.py\u001b[0m in \u001b[0;36mviewlim_to_dt\u001b[0;34m(self)\u001b[0m\n\u001b[1;32m   1197\u001b[0m                              \u001b[0;34m'often happens if you pass a non-datetime '\u001b[0m\u001b[0;34m\u001b[0m\u001b[0;34m\u001b[0m\u001b[0m\n\u001b[1;32m   1198\u001b[0m                              \u001b[0;34m'value to an axis that has datetime units'\u001b[0m\u001b[0;34m\u001b[0m\u001b[0;34m\u001b[0m\u001b[0m\n\u001b[0;32m-> 1199\u001b[0;31m                              .format(vmin))\n\u001b[0m\u001b[1;32m   1200\u001b[0m         \u001b[0;32mreturn\u001b[0m \u001b[0mnum2date\u001b[0m\u001b[0;34m(\u001b[0m\u001b[0mvmin\u001b[0m\u001b[0;34m,\u001b[0m \u001b[0mself\u001b[0m\u001b[0;34m.\u001b[0m\u001b[0mtz\u001b[0m\u001b[0;34m)\u001b[0m\u001b[0;34m,\u001b[0m \u001b[0mnum2date\u001b[0m\u001b[0;34m(\u001b[0m\u001b[0mvmax\u001b[0m\u001b[0;34m,\u001b[0m \u001b[0mself\u001b[0m\u001b[0;34m.\u001b[0m\u001b[0mtz\u001b[0m\u001b[0;34m)\u001b[0m\u001b[0;34m\u001b[0m\u001b[0;34m\u001b[0m\u001b[0m\n\u001b[1;32m   1201\u001b[0m \u001b[0;34m\u001b[0m\u001b[0m\n",
            "\u001b[0;31mValueError\u001b[0m: view limit minimum -36870.05 is less than 1 and is an invalid Matplotlib date value. This often happens if you pass a non-datetime value to an axis that has datetime units"
          ]
        },
        {
          "output_type": "display_data",
          "data": {
            "text/plain": [
              "<Figure size 432x288 with 1 Axes>"
            ]
          },
          "metadata": {
            "tags": []
          }
        }
      ]
    },
    {
      "cell_type": "markdown",
      "metadata": {
        "id": "evwkJagfrpSm",
        "colab_type": "text"
      },
      "source": [
        "### OK - that didn't work\n",
        "\n",
        "Let try to plot just Pedestrians on the y-axis, with year on the x-axis\n"
      ]
    },
    {
      "cell_type": "code",
      "metadata": {
        "id": "BGGDXXdkbqX2",
        "colab_type": "code",
        "outputId": "69156414-2f71-47db-9b06-53cfe0b83d33",
        "colab": {
          "base_uri": "https://localhost:8080/",
          "height": 288
        }
      },
      "source": [
        "act_data.plot(y=\"Pedestrians\", x=\"crash_date\")"
      ],
      "execution_count": 0,
      "outputs": [
        {
          "output_type": "execute_result",
          "data": {
            "text/plain": [
              "<matplotlib.axes._subplots.AxesSubplot at 0x7fc7981ab898>"
            ]
          },
          "metadata": {
            "tags": []
          },
          "execution_count": 26
        },
        {
          "output_type": "display_data",
          "data": {
            "image/png": "[encoded data removed]",
            "text/plain": [
              "<Figure size 432x288 with 1 Axes>"
            ]
          },
          "metadata": {
            "tags": []
          }
        }
      ]
    },
    {
      "cell_type": "markdown",
      "metadata": {
        "id": "tjOcU8OytArp",
        "colab_type": "text"
      },
      "source": [
        "What is going on with the dates?  We haven't specified an order, and we didn't create a date index.\n",
        "\n",
        "Let's sort before plotting:\n",
        "\n",
        "(**Alternatively** we could set a date index - then we wouldn't need to sort this here!)"
      ]
    },
    {
      "cell_type": "code",
      "metadata": {
        "id": "M0BIVzcktMVt",
        "colab_type": "code",
        "outputId": "158d5371-3c0a-494d-868e-25911b876229",
        "colab": {
          "base_uri": "https://localhost:8080/",
          "height": 288
        }
      },
      "source": [
        "act_data.sort_values(['crash_date']).plot(y=\"Pedestrians\", x=\"crash_date\")"
      ],
      "execution_count": 0,
      "outputs": [
        {
          "output_type": "execute_result",
          "data": {
            "text/plain": [
              "<matplotlib.axes._subplots.AxesSubplot at 0x7fc7981938d0>"
            ]
          },
          "metadata": {
            "tags": []
          },
          "execution_count": 28
        },
        {
          "output_type": "display_data",
          "data": {
            "image/png": "[encoded data removed]",
            "text/plain": [
              "<Figure size 432x288 with 1 Axes>"
            ]
          },
          "metadata": {
            "tags": []
          }
        }
      ]
    },
    {
      "cell_type": "markdown",
      "metadata": {
        "id": "kcO6i0DXtWmT",
        "colab_type": "text"
      },
      "source": [
        "What about those peaks?\n",
        "\n",
        "Notice the axis marks on the y-axis?\n",
        "\n",
        "The number of pedestrians in any accident is either 1, or 2.\n",
        "\n",
        "This doesn't give us a picture of what is happening over time.\n",
        "\n",
        "---\n",
        "## Grouping\n",
        "You can control your plots, and statistical calculations, through grouping.\n",
        "\n",
        "Grouping \"bunches together\" things which are \"alike\".\n",
        "\n",
        "If we group_by year, and sum the group, then we get a different perspective \n"
      ]
    },
    {
      "cell_type": "code",
      "metadata": {
        "id": "0Ts0535RjlRI",
        "colab_type": "code",
        "outputId": "ac4f5f52-778a-4709-bf22-1bbfdb9c9a43",
        "colab": {
          "base_uri": "https://localhost:8080/",
          "height": 298
        }
      },
      "source": [
        "act_data.groupby(act_data.crash_date.dt.year).sum().plot()"
      ],
      "execution_count": 0,
      "outputs": [
        {
          "output_type": "execute_result",
          "data": {
            "text/plain": [
              "<matplotlib.axes._subplots.AxesSubplot at 0x7fc798110438>"
            ]
          },
          "metadata": {
            "tags": []
          },
          "execution_count": 29
        },
        {
          "output_type": "display_data",
          "data": {
            "image/png": "[encoded data removed]",
            "text/plain": [
              "<Figure size 432x288 with 1 Axes>"
            ]
          },
          "metadata": {
            "tags": []
          }
        }
      ]
    },
    {
      "cell_type": "markdown",
      "metadata": {
        "id": "jZOTKOK_ub07",
        "colab_type": "text"
      },
      "source": [
        "### Date functions to group by\n",
        "\n",
        "1. weekday (the day of week on which the crash occurred)\n",
        "2. month  (the month of the year on which the crash occurred)\n",
        "3. year (the year in which the crash occurred)\n",
        "\n"
      ]
    },
    {
      "cell_type": "code",
      "metadata": {
        "id": "sYzL4kXiLO8-",
        "colab_type": "code",
        "outputId": "395dc96e-5f48-437c-bf31-6a730f7854da",
        "colab": {
          "base_uri": "https://localhost:8080/",
          "height": 833
        }
      },
      "source": [
        "act_data.groupby(act_data.crash_date.dt.weekday).sum().plot()\n",
        "plt.xlabel('Day of Week', fontsize=14)\n",
        "act_data.groupby(act_data.crash_date.dt.month).sum().plot()\n",
        "plt.xlabel('Month of Year', fontsize=14)\n",
        "act_data.groupby(act_data.crash_date.dt.year).sum().plot()\n",
        "plt.xlabel('Year', fontsize=14)\n"
      ],
      "execution_count": 0,
      "outputs": [
        {
          "output_type": "execute_result",
          "data": {
            "text/plain": [
              "Text(0.5, 0, 'Year')"
            ]
          },
          "metadata": {
            "tags": []
          },
          "execution_count": 30
        },
        {
          "output_type": "display_data",
          "data": {
            "image/png": "[encoded data removed]",
            "text/plain": [
              "<Figure size 432x288 with 1 Axes>"
            ]
          },
          "metadata": {
            "tags": []
          }
        },
        {
          "output_type": "display_data",
          "data": {
            "image/png": "[encoded data removed]",
            "text/plain": [
              "<Figure size 432x288 with 1 Axes>"
            ]
          },
          "metadata": {
            "tags": []
          }
        },
        {
          "output_type": "display_data",
          "data": {
            "image/png": "[encoded data removed]",
            "text/plain": [
              "<Figure size 432x288 with 1 Axes>"
            ]
          },
          "metadata": {
            "tags": []
          }
        }
      ]
    },
    {
      "cell_type": "code",
      "metadata": {
        "id": "cke_Q0Nmqmjr",
        "colab_type": "code",
        "colab": {}
      },
      "source": [
        "# NOTE: we can use the additional columns we created\n",
        "act_data.groupby(act_data.crash_year).sum().plot()\n",
        "plt.xlabel('Year', fontsize=14)"
      ],
      "execution_count": 0,
      "outputs": []
    },
    {
      "cell_type": "markdown",
      "metadata": {
        "id": "eggE8Yafvlk3",
        "colab_type": "text"
      },
      "source": [
        "---\n",
        "# Filtering\n",
        "\n",
        "We can select which rows, or columns, of data we are interested in looking at.\n",
        "\n",
        "This can help us answer questions about the data.\n",
        "\n",
        "For example - we may be interested in investigating the severity of the crash.\n",
        "\n",
        "The function \"unique()\" lets us find the values ono which we might filter.\n",
        "\n"
      ]
    },
    {
      "cell_type": "code",
      "metadata": {
        "id": "3FbrPN4rwIdq",
        "colab_type": "code",
        "outputId": "6d851361-0830-41e6-9c7d-598ecdb4fb10",
        "colab": {
          "base_uri": "https://localhost:8080/",
          "height": 35
        }
      },
      "source": [
        "# Using column name directly\n",
        "act_data.Severity.unique()\n",
        "# Using array syntax for accessing column name - necessary if column names contain spaces.\n",
        "act_data['Severity'].unique()"
      ],
      "execution_count": 0,
      "outputs": [
        {
          "output_type": "execute_result",
          "data": {
            "text/plain": [
              "array(['Injury', 'Property Damage Only', 'Fatal'], dtype=object)"
            ]
          },
          "metadata": {
            "tags": []
          },
          "execution_count": 31
        }
      ]
    },
    {
      "cell_type": "markdown",
      "metadata": {
        "id": "-p-I1C1lxCCu",
        "colab_type": "text"
      },
      "source": [
        "There are 3 values\n",
        "1. Injury\n",
        "2. Property Damage Only\n",
        "3. Fatal\n",
        "\n",
        "Let's find the Injuries.\n",
        "\n",
        "We need to set Severity as an index to use it as a filter.\n",
        "\n",
        "And then we can use 3 ways of selecting which rows (or columns)\n",
        "\n",
        "1. items -- exact match on column name\n",
        "2. like -- a match on part of a string\n",
        "3. regex -- using a regular expression to match the row contents\n",
        "\n",
        "We will use \"like\""
      ]
    },
    {
      "cell_type": "code",
      "metadata": {
        "id": "ts7CLtElxQPy",
        "colab_type": "code",
        "outputId": "65b2e53a-9388-49fc-e619-c9288103a062",
        "colab": {
          "base_uri": "https://localhost:8080/",
          "height": 455
        }
      },
      "source": [
        "# we create a new dataframe called injuries\n",
        "injuries = act_data.set_index('Severity').filter(like=\"Injury\", axis=0)\n",
        "injuries"
      ],
      "execution_count": 0,
      "outputs": [
        {
          "output_type": "execute_result",
          "data": {
            "text/html": [
              "<div>\n",
              "<style scoped>\n",
              "    .dataframe tbody tr th:only-of-type {\n",
              "        vertical-align: middle;\n",
              "    }\n",
              "\n",
              "    .dataframe tbody tr th {\n",
              "        vertical-align: top;\n",
              "    }\n",
              "\n",
              "    .dataframe thead th {\n",
              "        text-align: right;\n",
              "    }\n",
              "</style>\n",
              "<table border=\"1\" class=\"dataframe\">\n",
              "  <thead>\n",
              "    <tr style=\"text-align: right;\">\n",
              "      <th></th>\n",
              "      <th>crash_date</th>\n",
              "      <th>Crash_Time</th>\n",
              "      <th>Crash_Type</th>\n",
              "      <th>Pedestrians</th>\n",
              "      <th>Casualties</th>\n",
              "      <th>Location</th>\n",
              "      <th>Location</th>\n",
              "    </tr>\n",
              "    <tr>\n",
              "      <th>Severity</th>\n",
              "      <th></th>\n",
              "      <th></th>\n",
              "      <th></th>\n",
              "      <th></th>\n",
              "      <th></th>\n",
              "      <th></th>\n",
              "      <th></th>\n",
              "    </tr>\n",
              "  </thead>\n",
              "  <tbody>\n",
              "    <tr>\n",
              "      <th>Injury</th>\n",
              "      <td>2017-01-23</td>\n",
              "      <td>16:00</td>\n",
              "      <td>Struck pedestrian (On Road)</td>\n",
              "      <td>1</td>\n",
              "      <td>1</td>\n",
              "      <td>RATCLIFFE CRESCENT (CHALLINOR -&gt; CHALLINOR)</td>\n",
              "      <td>(-35.23191, 149.054575)</td>\n",
              "    </tr>\n",
              "    <tr>\n",
              "      <th>Injury</th>\n",
              "      <td>2016-05-09</td>\n",
              "      <td>10:29</td>\n",
              "      <td>Struck pedestrian (Off Road)</td>\n",
              "      <td>1</td>\n",
              "      <td>1</td>\n",
              "      <td>BORROWDALE STREET (NORFOLK -&gt; BORROWDALE)</td>\n",
              "      <td>(-35.342443, 149.12875)</td>\n",
              "    </tr>\n",
              "    <tr>\n",
              "      <th>Injury</th>\n",
              "      <td>2012-09-25</td>\n",
              "      <td>10:16</td>\n",
              "      <td>Struck pedestrian (On Road)</td>\n",
              "      <td>1</td>\n",
              "      <td>1</td>\n",
              "      <td>BRISBANE AVENUE (JOHN MCEWEN -&gt; STATE)</td>\n",
              "      <td>(-35.308829, 149.130814)</td>\n",
              "    </tr>\n",
              "    <tr>\n",
              "      <th>Injury</th>\n",
              "      <td>2014-06-08</td>\n",
              "      <td>17:30</td>\n",
              "      <td>Struck pedestrian (On Road)</td>\n",
              "      <td>1</td>\n",
              "      <td>1</td>\n",
              "      <td>EBDEN/WAKEFIELD INTERSECTION</td>\n",
              "      <td>(-35.262425, 149.147201)</td>\n",
              "    </tr>\n",
              "    <tr>\n",
              "      <th>Injury</th>\n",
              "      <td>2019-10-08</td>\n",
              "      <td>20:30</td>\n",
              "      <td>Struck pedestrian (On Road)</td>\n",
              "      <td>1</td>\n",
              "      <td>1</td>\n",
              "      <td>TUGGERANONG PARKWAY (LADYWTUGGSRM -&gt; TUGGSCOTT...</td>\n",
              "      <td>(-35.304403, 149.063315)</td>\n",
              "    </tr>\n",
              "    <tr>\n",
              "      <th>...</th>\n",
              "      <td>...</td>\n",
              "      <td>...</td>\n",
              "      <td>...</td>\n",
              "      <td>...</td>\n",
              "      <td>...</td>\n",
              "      <td>...</td>\n",
              "      <td>...</td>\n",
              "    </tr>\n",
              "    <tr>\n",
              "      <th>Injury</th>\n",
              "      <td>2018-10-15</td>\n",
              "      <td>13:02</td>\n",
              "      <td>Struck pedestrian (On Road)</td>\n",
              "      <td>1</td>\n",
              "      <td>1</td>\n",
              "      <td>MOUAT STREET (ANTILL / NORTHBOURNE -&gt; GOODWIN)</td>\n",
              "      <td>(-35.248157, 149.133119)</td>\n",
              "    </tr>\n",
              "    <tr>\n",
              "      <th>Injury</th>\n",
              "      <td>2012-05-03</td>\n",
              "      <td>16:35</td>\n",
              "      <td>Struck pedestrian (On Road)</td>\n",
              "      <td>1</td>\n",
              "      <td>1</td>\n",
              "      <td>MIRRABEI DRIVE (ANTHONY ROLFE / GUNDAROO -&gt; PA...</td>\n",
              "      <td>(-35.181466, 149.128234)</td>\n",
              "    </tr>\n",
              "    <tr>\n",
              "      <th>Injury</th>\n",
              "      <td>2018-09-17</td>\n",
              "      <td>18:10</td>\n",
              "      <td>Struck pedestrian (On Road)</td>\n",
              "      <td>1</td>\n",
              "      <td>0</td>\n",
              "      <td>BENJAMIN WAY (JOYNTON SMITH / BELCONNEN BUSWAY...</td>\n",
              "      <td>(-35.240502, 149.067479)</td>\n",
              "    </tr>\n",
              "    <tr>\n",
              "      <th>Injury</th>\n",
              "      <td>2017-08-22</td>\n",
              "      <td>12:20</td>\n",
              "      <td>Struck pedestrian (On Road)</td>\n",
              "      <td>1</td>\n",
              "      <td>1</td>\n",
              "      <td>EAST ROW (ALINGA / CITY / MORT -&gt; LONDON)</td>\n",
              "      <td>(-35.2795, 149.130473)</td>\n",
              "    </tr>\n",
              "    <tr>\n",
              "      <th>Injury</th>\n",
              "      <td>2015-07-08</td>\n",
              "      <td>17:15</td>\n",
              "      <td>Struck pedestrian (On Road)</td>\n",
              "      <td>1</td>\n",
              "      <td>1</td>\n",
              "      <td>MARCUS CLARKE STREET (ALINGA -&gt; RUDD/RIMMER)</td>\n",
              "      <td>(-35.277014, 149.126549)</td>\n",
              "    </tr>\n",
              "  </tbody>\n",
              "</table>\n",
              "<p>306 rows × 7 columns</p>\n",
              "</div>"
            ],
            "text/plain": [
              "         crash_date  ...                  Location\n",
              "Severity             ...                          \n",
              "Injury   2017-01-23  ...   (-35.23191, 149.054575)\n",
              "Injury   2016-05-09  ...   (-35.342443, 149.12875)\n",
              "Injury   2012-09-25  ...  (-35.308829, 149.130814)\n",
              "Injury   2014-06-08  ...  (-35.262425, 149.147201)\n",
              "Injury   2019-10-08  ...  (-35.304403, 149.063315)\n",
              "...             ...  ...                       ...\n",
              "Injury   2018-10-15  ...  (-35.248157, 149.133119)\n",
              "Injury   2012-05-03  ...  (-35.181466, 149.128234)\n",
              "Injury   2018-09-17  ...  (-35.240502, 149.067479)\n",
              "Injury   2017-08-22  ...    (-35.2795, 149.130473)\n",
              "Injury   2015-07-08  ...  (-35.277014, 149.126549)\n",
              "\n",
              "[306 rows x 7 columns]"
            ]
          },
          "metadata": {
            "tags": []
          },
          "execution_count": 32
        }
      ]
    },
    {
      "cell_type": "markdown",
      "metadata": {
        "id": "j-bHI_tC1lgi",
        "colab_type": "text"
      },
      "source": [
        "Now we can describe injuries, and plot injuries"
      ]
    },
    {
      "cell_type": "code",
      "metadata": {
        "id": "eOZSZmT_1fc3",
        "colab_type": "code",
        "outputId": "6d06f51e-3d63-4792-b6d2-543bc04da9fb",
        "colab": {
          "base_uri": "https://localhost:8080/",
          "height": 300
        }
      },
      "source": [
        "injuries.describe()"
      ],
      "execution_count": 0,
      "outputs": [
        {
          "output_type": "execute_result",
          "data": {
            "text/html": [
              "<div>\n",
              "<style scoped>\n",
              "    .dataframe tbody tr th:only-of-type {\n",
              "        vertical-align: middle;\n",
              "    }\n",
              "\n",
              "    .dataframe tbody tr th {\n",
              "        vertical-align: top;\n",
              "    }\n",
              "\n",
              "    .dataframe thead th {\n",
              "        text-align: right;\n",
              "    }\n",
              "</style>\n",
              "<table border=\"1\" class=\"dataframe\">\n",
              "  <thead>\n",
              "    <tr style=\"text-align: right;\">\n",
              "      <th></th>\n",
              "      <th>Pedestrians</th>\n",
              "      <th>Casualties</th>\n",
              "    </tr>\n",
              "  </thead>\n",
              "  <tbody>\n",
              "    <tr>\n",
              "      <th>count</th>\n",
              "      <td>306.000000</td>\n",
              "      <td>306.000000</td>\n",
              "    </tr>\n",
              "    <tr>\n",
              "      <th>mean</th>\n",
              "      <td>1.022876</td>\n",
              "      <td>1.003268</td>\n",
              "    </tr>\n",
              "    <tr>\n",
              "      <th>std</th>\n",
              "      <td>0.149752</td>\n",
              "      <td>0.189881</td>\n",
              "    </tr>\n",
              "    <tr>\n",
              "      <th>min</th>\n",
              "      <td>1.000000</td>\n",
              "      <td>0.000000</td>\n",
              "    </tr>\n",
              "    <tr>\n",
              "      <th>25%</th>\n",
              "      <td>1.000000</td>\n",
              "      <td>1.000000</td>\n",
              "    </tr>\n",
              "    <tr>\n",
              "      <th>50%</th>\n",
              "      <td>1.000000</td>\n",
              "      <td>1.000000</td>\n",
              "    </tr>\n",
              "    <tr>\n",
              "      <th>75%</th>\n",
              "      <td>1.000000</td>\n",
              "      <td>1.000000</td>\n",
              "    </tr>\n",
              "    <tr>\n",
              "      <th>max</th>\n",
              "      <td>2.000000</td>\n",
              "      <td>2.000000</td>\n",
              "    </tr>\n",
              "  </tbody>\n",
              "</table>\n",
              "</div>"
            ],
            "text/plain": [
              "       Pedestrians  Casualties\n",
              "count   306.000000  306.000000\n",
              "mean      1.022876    1.003268\n",
              "std       0.149752    0.189881\n",
              "min       1.000000    0.000000\n",
              "25%       1.000000    1.000000\n",
              "50%       1.000000    1.000000\n",
              "75%       1.000000    1.000000\n",
              "max       2.000000    2.000000"
            ]
          },
          "metadata": {
            "tags": []
          },
          "execution_count": 33
        }
      ]
    },
    {
      "cell_type": "code",
      "metadata": {
        "id": "RYfy9gop2DU2",
        "colab_type": "code",
        "outputId": "43e14c80-0036-4b60-b377-ac3c66621c16",
        "colab": {
          "base_uri": "https://localhost:8080/",
          "height": 642
        }
      },
      "source": [
        "injuries.groupby(injuries.crash_date.dt.year).sum().plot(figsize=(20,10), linewidth=5, fontsize=20)\n",
        "plt.xlabel('Year', fontsize=20)\n"
      ],
      "execution_count": 0,
      "outputs": [
        {
          "output_type": "execute_result",
          "data": {
            "text/plain": [
              "Text(0.5, 0, 'Year')"
            ]
          },
          "metadata": {
            "tags": []
          },
          "execution_count": 34
        },
        {
          "output_type": "display_data",
          "data": {
            "image/png": "[encoded data removed]",
            "text/plain": [
              "<Figure size 1440x720 with 1 Axes>"
            ]
          },
          "metadata": {
            "tags": []
          }
        }
      ]
    },
    {
      "cell_type": "markdown",
      "metadata": {
        "id": "tWor-lY3a39q",
        "colab_type": "text"
      },
      "source": [
        "---\n",
        "# Querying\n",
        "A query is a more powerful type of filter.\n",
        "\n",
        "The required code is:\n",
        "```python\n",
        "query_result = dataframe.query(\"querystring\")\n",
        "```\n",
        "This runs a query represented by the querystring against the dataframe.\n",
        "\n",
        "A query string contains a boolean expression listing columns in the dataframe,\n",
        "operators, and values (or other columns).\n",
        "\n",
        "Rows in the dataframe for which the querystring evaluates to True are added to the query_result.\n",
        "\n",
        "Operators:\n",
        "```python\n",
        "  == (is equal to)\n",
        "  > (greater than)\n",
        "  >= (greater than or equal to)\n",
        "  < (less than)\n",
        "  <= (less than or equal to)\n",
        "  != (not equal to)\n",
        "  multiple expressions can be combined using and, or and not\n",
        "  and (A and B) - both expression A and B must return True\n",
        "  or (A or B) - either A or B must return True. Both cannot be False\n",
        "  not A - expression A must return False\n",
        "```\n",
        "\n"
      ]
    },
    {
      "cell_type": "code",
      "metadata": {
        "id": "GVvX3kfRc9Lq",
        "colab_type": "code",
        "outputId": "2808074f-c35f-4b65-aa5f-68047a556581",
        "colab": {
          "base_uri": "https://localhost:8080/",
          "height": 72
        }
      },
      "source": [
        "# It is important to know the data types of your columns\n",
        "# crash_year in this example is a string\n",
        "# So it must be compared as a string\n",
        "\n",
        "# This query asks for rows where severity is \"Fatal\" and crash_year is \"2014\"\n",
        "fatal_2014 = act_data.query('Severity == \"Fatal\"')\n",
        "fatal_2014.head()\n",
        "fatal_2014.sum(axis=0)"
      ],
      "execution_count": 0,
      "outputs": [
        {
          "output_type": "execute_result",
          "data": {
            "text/plain": [
              "Pedestrians    12\n",
              "Casualties     12\n",
              "dtype: int64"
            ]
          },
          "metadata": {
            "tags": []
          },
          "execution_count": 40
        }
      ]
    },
    {
      "cell_type": "markdown",
      "metadata": {
        "id": "HT0cI6pG24Yb",
        "colab_type": "text"
      },
      "source": [
        "---\n",
        "# Questions\n",
        "1. On which day of the week have most the most fatalities occured?\n",
        "2. How many fataities have there been in total?\n",
        "3. Which is the worst month for injuries?\n",
        "4. How do the trends in injuries and property damage match?\n",
        "\n",
        "Use your skills with grouping and filtering, and sum - to answer these questions.\n",
        "\n",
        "---\n",
        "# Advanced Topic\n",
        "\n",
        "## Advanced Plotting\n",
        "\n",
        "Pandas enables sophisticated calculation.\n",
        "For example - we can calculate a rolling mean.\n",
        "\n",
        "NOTE: Rolling means require \"standardised data\" - like a daily (stanndard period) measurement.  \n",
        "\n",
        "The rolling mean in this case does not help us understand the dataset.  Also - Pandas has chosen (by default) to plot by severity.  Which is \"Injury\" for all items in this dataset. "
      ]
    },
    {
      "cell_type": "code",
      "metadata": {
        "id": "G7kp0KNo7dPW",
        "colab_type": "code",
        "colab": {}
      },
      "source": [
        "peds = injuries[['Pedestrians']]\n",
        "peds.rolling(12).mean().plot(figsize=(20,10), linewidth=5, fontsize=20)\n",
        "plt.xlabel('Severity', fontsize=20)"
      ],
      "execution_count": 0,
      "outputs": []
    },
    {
      "cell_type": "markdown",
      "metadata": {
        "id": "8NUB8hkQZ3VA",
        "colab_type": "text"
      },
      "source": [
        "We need to set a date index for our next operations.\n",
        "\"inplace=True\" means that it happens to the dataframe directly."
      ]
    },
    {
      "cell_type": "code",
      "metadata": {
        "id": "dLLfDJu6F8rP",
        "colab_type": "code",
        "colab": {}
      },
      "source": [
        "injuries.set_index('crash_date', inplace=True)\n",
        "injuries.index\n"
      ],
      "execution_count": 0,
      "outputs": []
    },
    {
      "cell_type": "markdown",
      "metadata": {
        "id": "BGUOGNdBhSim",
        "colab_type": "text"
      },
      "source": [
        "# Scatterplots\n",
        "\n",
        "By defining a marker, and making the linestyle \"None\", we can create a scatterplot of our data using pandas.\n",
        "\n",
        "We can also control the axis labels, and subplots.\n"
      ]
    },
    {
      "cell_type": "code",
      "metadata": {
        "id": "GVHYlka_hPA1",
        "colab_type": "code",
        "outputId": "e941f6d3-b467-490a-db65-109170d376c5",
        "colab": {
          "base_uri": "https://localhost:8080/",
          "height": 515
        }
      },
      "source": [
        "# Create a list of the columns we are interested in plotting\n",
        "data_columns = ['Pedestrians','Casualties']\n",
        "\n",
        "# define axes for a scatterplot (marker is a period)\n",
        "#   and plot!\n",
        "axes = injuries[data_columns].plot(marker='.', alpha=0.5, linestyle='None', figsize=(11, 9), subplots=True)\n",
        "# for each plot (one for Pedestrians and on for Casualties)\n",
        "for ax in axes:\n",
        "    # set a y axis label\n",
        "    ax.set_ylabel('Number of People')\n",
        "    # set our bounds for the y-axis\n",
        "    ax.set_ybound(lower=0, upper=2.1)\n",
        "    # set an x-axis label\n",
        "    ax.set_xlabel('Year of Incident')"
      ],
      "execution_count": 0,
      "outputs": [
        {
          "output_type": "display_data",
          "data": {
            "image/png": "[encoded data removed]",
            "text/plain": [
              "<Figure size 792x648 with 2 Axes>"
            ]
          },
          "metadata": {
            "tags": []
          }
        }
      ]
    },
    {
      "cell_type": "markdown",
      "metadata": {
        "id": "E_xRGRBDh3pS",
        "colab_type": "text"
      },
      "source": [
        "# Summary plots\n",
        "\n",
        "We can create a sum of data for each month (or any time period - week, year, etc.). This enables us to see patterns over time, comparing the number of incidents for each onth, and changes to the rate of pedestrian accident over time.\n",
        "\n",
        "We will also see how to manage the plot size, plot multiple graphs on a single set of axes, and add legends."
      ]
    },
    {
      "cell_type": "code",
      "metadata": {
        "id": "cPTtboi-h9BL",
        "colab_type": "code",
        "outputId": "a2c17a0d-75b9-4598-85a3-43b2b481f750",
        "colab": {
          "base_uri": "https://localhost:8080/",
          "height": 398
        }
      },
      "source": [
        "# Plot a monthly sum for pedestrians and casualties on a single plot\n",
        "injury_monthly = injuries[data_columns].resample('M').sum()\n",
        "\n",
        "# We need to use the matplotlib dates module\n",
        "import matplotlib.dates as mdates\n",
        "\n",
        "# we can set our plot area using figsize\n",
        "# defining fig, ax from matplotlib subplots allows us to plot multiple data on the same axis\n",
        "fig, ax = plt.subplots(figsize=(30,10))\n",
        "\n",
        "# plot pedestrians as a black line\n",
        "ax.plot(injury_monthly['Pedestrians'], color='black', label='Pedestrians')\n",
        "# plot casualties as an area\n",
        "injury_monthly[['Casualties']].plot.area(ax=ax, linewidth=0)\n",
        "# we will use a Month Locator for x axis labels\n",
        "ax.xaxis.set_major_locator(mdates.MonthLocator())\n",
        "# Alternatively use a Year Locator for x axis labels (1 per year)\n",
        "# ax.xaxis.set_major_locator(mdates.YearLocator())\n",
        "\n",
        "# Add a legend\n",
        "ax.legend()\n",
        "# Set a y-label\n",
        "ax.set_ylabel('Monthly Total (People)');\n",
        "ax.set_xlabel('Month of Year');"
      ],
      "execution_count": 0,
      "outputs": [
        {
          "output_type": "error",
          "ename": "TypeError",
          "evalue": "ignored",
          "traceback": [
            "\u001b[0;31m---------------------------------------------------------------------------\u001b[0m",
            "\u001b[0;31mTypeError\u001b[0m                                 Traceback (most recent call last)",
            "\u001b[0;32m<ipython-input-43-f715f60f6ff0>\u001b[0m in \u001b[0;36m<module>\u001b[0;34m()\u001b[0m\n\u001b[0;32m----> 1\u001b[0;31m \u001b[0minjury_monthly\u001b[0m \u001b[0;34m=\u001b[0m \u001b[0minjuries\u001b[0m\u001b[0;34m[\u001b[0m\u001b[0mdata_columns\u001b[0m\u001b[0;34m]\u001b[0m\u001b[0;34m.\u001b[0m\u001b[0mresample\u001b[0m\u001b[0;34m(\u001b[0m\u001b[0;34m'M'\u001b[0m\u001b[0;34m)\u001b[0m\u001b[0;34m.\u001b[0m\u001b[0msum\u001b[0m\u001b[0;34m(\u001b[0m\u001b[0;34m)\u001b[0m\u001b[0;34m\u001b[0m\u001b[0;34m\u001b[0m\u001b[0m\n\u001b[0m\u001b[1;32m      2\u001b[0m \u001b[0;34m\u001b[0m\u001b[0m\n\u001b[1;32m      3\u001b[0m \u001b[0;31m# We need to use the matplotlib dates module\u001b[0m\u001b[0;34m\u001b[0m\u001b[0;34m\u001b[0m\u001b[0;34m\u001b[0m\u001b[0m\n\u001b[1;32m      4\u001b[0m \u001b[0;32mimport\u001b[0m \u001b[0mmatplotlib\u001b[0m\u001b[0;34m.\u001b[0m\u001b[0mdates\u001b[0m \u001b[0;32mas\u001b[0m \u001b[0mmdates\u001b[0m\u001b[0;34m\u001b[0m\u001b[0;34m\u001b[0m\u001b[0m\n\u001b[1;32m      5\u001b[0m \u001b[0;34m\u001b[0m\u001b[0m\n",
            "\u001b[0;32m/usr/local/lib/python3.6/dist-packages/pandas/core/generic.py\u001b[0m in \u001b[0;36mresample\u001b[0;34m(self, rule, how, axis, fill_method, closed, label, convention, kind, loffset, limit, base, on, level)\u001b[0m\n\u001b[1;32m   8447\u001b[0m             \u001b[0mbase\u001b[0m\u001b[0;34m=\u001b[0m\u001b[0mbase\u001b[0m\u001b[0;34m,\u001b[0m\u001b[0;34m\u001b[0m\u001b[0;34m\u001b[0m\u001b[0m\n\u001b[1;32m   8448\u001b[0m             \u001b[0mkey\u001b[0m\u001b[0;34m=\u001b[0m\u001b[0mon\u001b[0m\u001b[0;34m,\u001b[0m\u001b[0;34m\u001b[0m\u001b[0;34m\u001b[0m\u001b[0m\n\u001b[0;32m-> 8449\u001b[0;31m             \u001b[0mlevel\u001b[0m\u001b[0;34m=\u001b[0m\u001b[0mlevel\u001b[0m\u001b[0;34m,\u001b[0m\u001b[0;34m\u001b[0m\u001b[0;34m\u001b[0m\u001b[0m\n\u001b[0m\u001b[1;32m   8450\u001b[0m         )\n\u001b[1;32m   8451\u001b[0m         return _maybe_process_deprecations(\n",
            "\u001b[0;32m/usr/local/lib/python3.6/dist-packages/pandas/core/resample.py\u001b[0m in \u001b[0;36mresample\u001b[0;34m(obj, kind, **kwds)\u001b[0m\n\u001b[1;32m   1304\u001b[0m     \"\"\"\n\u001b[1;32m   1305\u001b[0m     \u001b[0mtg\u001b[0m \u001b[0;34m=\u001b[0m \u001b[0mTimeGrouper\u001b[0m\u001b[0;34m(\u001b[0m\u001b[0;34m**\u001b[0m\u001b[0mkwds\u001b[0m\u001b[0;34m)\u001b[0m\u001b[0;34m\u001b[0m\u001b[0;34m\u001b[0m\u001b[0m\n\u001b[0;32m-> 1306\u001b[0;31m     \u001b[0;32mreturn\u001b[0m \u001b[0mtg\u001b[0m\u001b[0;34m.\u001b[0m\u001b[0m_get_resampler\u001b[0m\u001b[0;34m(\u001b[0m\u001b[0mobj\u001b[0m\u001b[0;34m,\u001b[0m \u001b[0mkind\u001b[0m\u001b[0;34m=\u001b[0m\u001b[0mkind\u001b[0m\u001b[0;34m)\u001b[0m\u001b[0;34m\u001b[0m\u001b[0;34m\u001b[0m\u001b[0m\n\u001b[0m\u001b[1;32m   1307\u001b[0m \u001b[0;34m\u001b[0m\u001b[0m\n\u001b[1;32m   1308\u001b[0m \u001b[0;34m\u001b[0m\u001b[0m\n",
            "\u001b[0;32m/usr/local/lib/python3.6/dist-packages/pandas/core/resample.py\u001b[0m in \u001b[0;36m_get_resampler\u001b[0;34m(self, obj, kind)\u001b[0m\n\u001b[1;32m   1441\u001b[0m             \u001b[0;34m\"Only valid with DatetimeIndex, \"\u001b[0m\u001b[0;34m\u001b[0m\u001b[0;34m\u001b[0m\u001b[0m\n\u001b[1;32m   1442\u001b[0m             \u001b[0;34m\"TimedeltaIndex or PeriodIndex, \"\u001b[0m\u001b[0;34m\u001b[0m\u001b[0;34m\u001b[0m\u001b[0m\n\u001b[0;32m-> 1443\u001b[0;31m             \u001b[0;34m\"but got an instance of %r\"\u001b[0m \u001b[0;34m%\u001b[0m \u001b[0mtype\u001b[0m\u001b[0;34m(\u001b[0m\u001b[0max\u001b[0m\u001b[0;34m)\u001b[0m\u001b[0;34m.\u001b[0m\u001b[0m__name__\u001b[0m\u001b[0;34m\u001b[0m\u001b[0;34m\u001b[0m\u001b[0m\n\u001b[0m\u001b[1;32m   1444\u001b[0m         )\n\u001b[1;32m   1445\u001b[0m \u001b[0;34m\u001b[0m\u001b[0m\n",
            "\u001b[0;31mTypeError\u001b[0m: Only valid with DatetimeIndex, TimedeltaIndex or PeriodIndex, but got an instance of 'Index'"
          ]
        }
      ]
    },
    {
      "cell_type": "markdown",
      "metadata": {
        "id": "-aPFQoBCERH5",
        "colab_type": "text"
      },
      "source": [
        "## Seaborn\n",
        "\n",
        "Seaborn is an advanced [statistical data visualisation](https://seaborn.pydata.org/) library.\n",
        "\n",
        "We will start looking at some of its capabilities."
      ]
    },
    {
      "cell_type": "code",
      "metadata": {
        "id": "ORaI_LeY-FbT",
        "colab_type": "code",
        "colab": {}
      },
      "source": [
        "import seaborn as sns\n",
        "# Use seaborn style defaults and set the default figure size\n",
        "sns.set(rc={'figure.figsize':(11, 4)})"
      ],
      "execution_count": 0,
      "outputs": []
    },
    {
      "cell_type": "markdown",
      "metadata": {
        "id": "pT_oPKa6oCmL",
        "colab_type": "text"
      },
      "source": [
        "# Box Plots\n",
        "\n",
        "We can use seaborn to create a boxplot.\n",
        "\n",
        "In this case - we will use the injury data summed by month (as created above)\n",
        "\n",
        "This will summarise the data for ALL years, by month"
      ]
    },
    {
      "cell_type": "code",
      "metadata": {
        "id": "1KANjemv-K3D",
        "colab_type": "code",
        "colab": {}
      },
      "source": [
        "# Seaborn is used to create a box plot\n",
        "fig, axes = plt.subplots(2, 1, figsize=(30, 10), sharex=True)\n",
        "for name, ax in zip(['Pedestrians', 'Casualties'], axes):\n",
        "  sns.boxplot(data=injury_monthly, x=injury_monthly.index.month, y=name, ax=ax)\n",
        "  ax.set_ylabel('Persons')\n",
        "  ax.set_xticklabels(injury_monthly.index.strftime(\"%B\"))\n",
        "  ax.set_title(name)\n",
        "  ax.set_xlabel('')\n",
        "axes[1].set_xlabel('Month of Year')\n"
      ],
      "execution_count": 0,
      "outputs": []
    }
  ]
}