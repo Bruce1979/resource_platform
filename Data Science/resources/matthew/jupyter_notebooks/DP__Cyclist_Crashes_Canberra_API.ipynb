{
  "nbformat": 4,
  "nbformat_minor": 0,
  "metadata": {
    "kernelspec": {
      "display_name": "Python 3",
      "language": "python",
      "name": "python3"
    },
    "language_info": {
      "codemirror_mode": {
        "name": "ipython",
        "version": 3
      },
      "file_extension": ".py",
      "mimetype": "text/x-python",
      "name": "python",
      "nbconvert_exporter": "python",
      "pygments_lexer": "ipython3",
      "version": "3.6.5"
    },
    "colab": {
      "name": "DP_ Cyclist_Crashes_Canberra_API.ipynb",
      "provenance": [],
      "collapsed_sections": []
    }
  },
  "cells": [
    {
      "cell_type": "markdown",
      "metadata": {
        "id": "F0-VFSt2KMhh",
        "colab_type": "text"
      },
      "source": [
        "# Data Processing\n",
        "\n",
        "In this exercise we are going to look at some data.\n",
        "\n",
        "The datasets are available from the [ACT Open Data Portal](https://www.data.act.gov.au/)\n",
        "\n",
        "We are looking at data for [cyclist crashes](https://www.data.act.gov.au/Justice-Safety-and-Emergency/Cyclist-Crashes/n2kg-qkwj) in the ACT.\n",
        "\n",
        "You can download the data for exploration using Excel or Sheets.\n",
        "\n",
        "This exercise will introduce you to data analysis using python.\n",
        "***\n",
        "## Jupyter Notebooks and Colab:\n",
        "\n",
        "The notebook state is \"remembered\" during a session.\n",
        "\n",
        "Any variables created in one cell will retain their value when referenced in another cell.\n",
        "\n",
        "If \"inactive\" for a time - Google Colab will \"reset\" the engine.\n",
        "\n",
        "You will lose all variable values when this happens.  This requires re-executing each cell in sequence to return the engine to its previous state.\n",
        "\n",
        "***\n",
        "## Importing Libraries\n",
        "The first thing we have to do in working with data is to import code libraries which will make the job of data analysis easier.\n",
        "\n",
        "We will be working with the libraries:\n",
        "\n",
        "\n",
        "*   [NumPy](https://numpy.org/) - Python Numerical Analysis\n",
        "*   [Pandas](https://pandas.pydata.org/) - Python Data Analysis\n",
        "*   [MatPlotLib](https://matplotlib.org/) - Python Data Plotting\n",
        "\n",
        "Import \"as\" allows you to rename a module for ease of access: it gives a \"nickname\" for the module. \n",
        "\n",
        "For example (not a code cell!):\n",
        "```python\n",
        "import pandas as pd # You can now refer to pandas using the name \"pd\"\n",
        "```\n",
        "\n"
      ]
    },
    {
      "cell_type": "code",
      "metadata": {
        "id": "p_ksWkWmKLRX",
        "colab_type": "code",
        "colab": {}
      },
      "source": [
        "# import gives us access to a library of python code\n",
        "# In this way we can build our code based on sophisticated code\n",
        "# created by a wide range of experts from around the world.\n",
        "\n",
        "import numpy as np\n",
        "# numpy is a library for numerical analysis\n",
        "\n",
        "import pandas as pd\n",
        "# pandas is a library for data processing\n",
        "\n",
        "import matplotlib.pyplot as plt\n",
        "# matplotlib is a library for plotting quantitative data\n",
        "\n",
        "import datetime\n",
        "# datetime enables us to handle date and time data numerically\n",
        "\n",
        "import matplotlib.pyplot as plt\n",
        "# matplotlib is a plotting library\n",
        "\n",
        "import requests\n",
        "# requests enables us to get data directly from a URL or web api\n",
        "\n",
        "import io\n",
        "# io deals with data input/output - this this case for transforming data from an\n",
        "# HTTP request into a text stream"
      ],
      "execution_count": 0,
      "outputs": []
    },
    {
      "cell_type": "markdown",
      "metadata": {
        "id": "8VPEzJpTUwmF",
        "colab_type": "text"
      },
      "source": [
        "Remember to execute each code cell!\n",
        "\n",
        "# Read in your data\n",
        "Let's read in the crash data spreadsheet using pandas \"read_csv\"\n",
        "\n",
        "parse_dates is a parameter which enable translation of a date string into standard date format.\n",
        "\n",
        "In this example we are reading in the Pedestrian Crash Data from the ACT Open Data Portal.  It has been downloaded from the portal, and then uploaded to my Google Drive folder \"My Drive/Colab Notebooks/Data\".\n",
        "\n",
        "> ***read_csv*** reads a comma separated value file, and gives a pandas dataframe as a result. The CSV file must have data structured in rows and columns.\n",
        "\n",
        "> What is a ___pandas dataframe___? A *\"two-dimensional size-mutable, potentially heterogeneous tabular data structure with labeled axes (rows and columns). A Data frame is a two-dimensional data structure, i.e., data is aligned in a tabular fashion in rows and columns. Pandas DataFrame consists of three principal components, the data, rows, and columns.\"*  ([GeeksForGeeks](https://www.geeksforgeeks.org/python-pandas-dataframe/)).  It is like a Spreadsheet Table or SQL Database Table.\n"
      ]
    },
    {
      "cell_type": "code",
      "metadata": {
        "id": "I0rG9AGWUuJd",
        "colab_type": "code",
        "colab": {}
      },
      "source": [
        "#read in the ACT Pedestrian Crash Data\n",
        "req = requests.get('https://www.data.act.gov.au/resource/n2kg-qkwj.csv')\n",
        "req.text\n",
        "\n"
      ],
      "execution_count": 0,
      "outputs": []
    },
    {
      "cell_type": "markdown",
      "metadata": {
        "id": "ThBFDwQxonjs",
        "colab_type": "text"
      },
      "source": [
        "It is important to check the structure of the data before attempting to read it into a pandas dataframe.\n",
        "\n",
        "This confirms your data structure.\n",
        "\n",
        "In this case, the CSV structure is what we want - so let's read in the data\n"
      ]
    },
    {
      "cell_type": "code",
      "metadata": {
        "id": "Q7iz5lQGpAe-",
        "colab_type": "code",
        "colab": {}
      },
      "source": [
        "act_data = pd.read_csv('https://www.data.act.gov.au/resource/n2kg-qkwj.csv', parse_dates=['crash_date'])\n",
        "act_data.head()\n"
      ],
      "execution_count": 0,
      "outputs": []
    },
    {
      "cell_type": "code",
      "metadata": {
        "id": "IuBR_aVwbvHZ",
        "colab_type": "code",
        "colab": {}
      },
      "source": [
        "# An alternative is to use the req.text and read from that (but we do not need to)\n",
        "\n",
        "act_data = pd.read_csv(io.StringIO(req.text),parse_dates=['crash_date'])\n",
        "\n",
        "# We now have a variable called act_data which references a Pandas DataFrame\n"
      ],
      "execution_count": 0,
      "outputs": []
    },
    {
      "cell_type": "markdown",
      "metadata": {
        "id": "tUuhdgSuWJNR",
        "colab_type": "text"
      },
      "source": [
        "### Date Datatype\n",
        "#### string vs pandas timestamp\n",
        "\n",
        "The Crash Date (the date the pedestrian crash occurred) was parsed during import\n",
        "\n",
        "> define parse:  the process of analyzing a string of symbols, either in natural language, computer languages or data structures, conforming to the rules of a formal grammar. ([Wikipedia](https://en.wikipedia.org/wiki/Parsing))\n",
        "\n",
        "NOTE: This parse_date was possible because we looked at the CSV **FIRST** and knew the names of the columns and the format of the dates in the \"Crash Date\" column.\n",
        "\n",
        "We can checkout this column like so:"
      ]
    },
    {
      "cell_type": "code",
      "metadata": {
        "id": "IYuxODiuWlRF",
        "colab_type": "code",
        "colab": {}
      },
      "source": [
        "act_data.crash_date.dt.date"
      ],
      "execution_count": 0,
      "outputs": []
    },
    {
      "cell_type": "markdown",
      "metadata": {
        "id": "RHsAvE1yXFTI",
        "colab_type": "text"
      },
      "source": [
        "If your crash_date is a String (because you did not use parse_dates), and not a datetime64, then you need to convert it so that we can access full datetime functionality.\n",
        "\n",
        "You can convert this using pandas to_datetime() function."
      ]
    },
    {
      "cell_type": "code",
      "metadata": {
        "colab_type": "code",
        "id": "ZnMUgspEXDo6",
        "colab": {}
      },
      "source": [
        "# This shows how to convert a string date formatted as dd/mm/yyyy into a \n",
        "# act_data['crash_date'] = pd.to_datetime(act_data['crash_date_str'],format='%d/%m/%Y')\n",
        "# YOU DO NOT NEED TO RUN THIS!  WE PARSED THE DATES!"
      ],
      "execution_count": 0,
      "outputs": []
    },
    {
      "cell_type": "markdown",
      "metadata": {
        "id": "PRPOkuJ5c_B6",
        "colab_type": "text"
      },
      "source": [
        "# Investigating the DataFrame\n",
        "\n",
        "We can display the first few rows using the head() function"
      ]
    },
    {
      "cell_type": "code",
      "metadata": {
        "id": "az0d8tyAKLRl",
        "colab_type": "code",
        "colab": {}
      },
      "source": [
        "#display the first 5 entries\n",
        "\n",
        "act_data.head()"
      ],
      "execution_count": 0,
      "outputs": []
    },
    {
      "cell_type": "markdown",
      "metadata": {
        "id": "JtfGxx-9e3tD",
        "colab_type": "text"
      },
      "source": [
        "There is also a tail function for a dataframe.\n",
        "\n",
        "Challenge: Write code to call the tail function on the act_data dataframe."
      ]
    },
    {
      "cell_type": "code",
      "metadata": {
        "id": "Co11hNtofGqJ",
        "colab_type": "code",
        "colab": {}
      },
      "source": [
        "# Write your code here to call the tail function on the act_data dataframe\n",
        "# And run it!\n"
      ],
      "execution_count": 0,
      "outputs": []
    },
    {
      "cell_type": "markdown",
      "metadata": {
        "id": "dv7xEYwhfPBl",
        "colab_type": "text"
      },
      "source": [
        "## Describing the data\n",
        "Pandas dataframes have a describe function.\n",
        "\n",
        "This will give you some basic statistical details for each numeric column in the dataframe.\n",
        "\n",
        "What is this telling us about the dataframe?"
      ]
    },
    {
      "cell_type": "code",
      "metadata": {
        "id": "XswO31ZjbWd9",
        "colab_type": "code",
        "colab": {}
      },
      "source": [
        "act_data.describe()"
      ],
      "execution_count": 0,
      "outputs": []
    },
    {
      "cell_type": "markdown",
      "metadata": {
        "id": "Pzrv76KihY9O",
        "colab_type": "text"
      },
      "source": [
        "# DataFrame column manipluations\n",
        "\n",
        "With your dataframe, you can change the columns:\n",
        "\n",
        "\n",
        "1.   Change the name of a column\n",
        "2.   Convert the datatype of a column (string to date, for example)\n",
        "3.   Drop (Delete) a column you are not using\n",
        "4.   Add a new column - based on calculated data\n",
        "\n",
        "\n",
        "To change column names:"
      ]
    },
    {
      "cell_type": "code",
      "metadata": {
        "id": "xpFo0AVVKLRr",
        "colab_type": "code",
        "colab": {}
      },
      "source": [
        "# The API has nice clean column names\n",
        "#\n",
        "# Tidy up the column names\n",
        "act_data = act_data.rename(columns={\n",
        "    \"crash_date\": \"crash_dt\" # crash_date is a datetime\n",
        "    })\n",
        "\n",
        "# Note - we assign the result of the operation back to the original dataframe\n",
        "act_data.head()"
      ],
      "execution_count": 0,
      "outputs": []
    },
    {
      "cell_type": "markdown",
      "metadata": {
        "id": "UV00z9boiJat",
        "colab_type": "text"
      },
      "source": [
        "To drop a column:"
      ]
    },
    {
      "cell_type": "code",
      "metadata": {
        "id": "iNajU1qbiNFK",
        "colab_type": "code",
        "colab": {}
      },
      "source": [
        "# Crash ID comes from the ACT Open Data Portal\n",
        "# It has been treated as a numeric value (and thus shows up in \"act_data.describe()\" above)\n",
        "# BUT it doesn't represent a numeric value\n",
        "# So we can drop it from the dataframe\n",
        "\n",
        "act_data = act_data.drop(columns=['crash_id','location_1','crash_time'])\n",
        "\n",
        "# Note - we assign the result of the operation back to the original dataframe"
      ],
      "execution_count": 0,
      "outputs": []
    },
    {
      "cell_type": "code",
      "metadata": {
        "id": "lekMGXWkpzMY",
        "colab_type": "code",
        "colab": {}
      },
      "source": [
        "act_data.head()"
      ],
      "execution_count": 0,
      "outputs": []
    },
    {
      "cell_type": "markdown",
      "metadata": {
        "id": "ULHZjrNWi7eM",
        "colab_type": "text"
      },
      "source": [
        "To add a computed value column:"
      ]
    },
    {
      "cell_type": "code",
      "metadata": {
        "id": "osXrRGU7i-0h",
        "colab_type": "code",
        "colab": {}
      },
      "source": [
        "# Create a column for the day of week of the crash\n",
        "act_data['crash_date'] = act_data.crash_dt.dt.date\n",
        "act_data['crash_time'] = act_data.crash_dt.dt.time\n",
        "act_data['day_name'] = act_data.crash_dt.dt.day_name()\n",
        "\n",
        "# Create a 'crash_year' column from the crash_date\n",
        "\n",
        "# Version 1: get the year from the \"dt\" (datetime) value of the crash_date\n",
        "act_data[\"crash_year\"] = act_data.crash_dt.dt.year\n",
        "# Version 2: Lambda function\n",
        "# act_data[\"crash_year\"] = act_data.crash_date.map(lambda x: x.strftime('%Y'))\n",
        "# Show the contents of the new column\n",
        "act_data.crash_year"
      ],
      "execution_count": 0,
      "outputs": []
    },
    {
      "cell_type": "markdown",
      "metadata": {
        "id": "n7ob1ACaf3uN",
        "colab_type": "text"
      },
      "source": [
        "# Dataframe indexes\n",
        "Dataframes have an index. If you do not specify an index, an index is created for you. This contains a sequential number for each row of the dataframe.\n",
        "\n",
        "Lets have a look at the index"
      ]
    },
    {
      "cell_type": "code",
      "metadata": {
        "id": "pEdPjRSL0-oP",
        "colab_type": "code",
        "colab": {}
      },
      "source": [
        "act_data.index"
      ],
      "execution_count": 0,
      "outputs": []
    },
    {
      "cell_type": "markdown",
      "metadata": {
        "id": "9LYRZsGNgPDP",
        "colab_type": "text"
      },
      "source": [
        "This is the default index.\n",
        "\n",
        "We can use another colun as an index. Why would we want to do this?  And what are the restrictions?\n",
        "\n",
        "Indexes are required for using filters (to select part of your data - see below).\n",
        "\n",
        "If you define a column as an index, then you can refer to the column using the name \"index\".\n",
        "\n",
        "## Date-based Index\n",
        "With a date column as an index, you can access date properties directly on the index. This is useful for filtering, grouping, sorting, etc.\n",
        "\n",
        "If you do not do this - then you must refer to the column by name."
      ]
    },
    {
      "cell_type": "code",
      "metadata": {
        "id": "R2iLrifxx_Ta",
        "colab_type": "code",
        "colab": {}
      },
      "source": [
        "#   If you want to set the crash_date as an index, uncomment the line of code\n",
        "#   below, and run this cell.\n",
        "act_data.set_index('crash_date', inplace=True)"
      ],
      "execution_count": 0,
      "outputs": []
    },
    {
      "cell_type": "markdown",
      "metadata": {
        "id": "ZfJyNJlmiyNj",
        "colab_type": "text"
      },
      "source": [
        "# Plotting Data\n",
        "\n",
        "Pandas uses **MatPlotLib** to plot data.\n",
        "You can also use MatPlotLib directly.\n",
        "\n",
        "The plot() function takes parameters similar to MatPlotLib\n",
        "\n",
        "You can call plot on any \"plottable\" value (quantifiable data).\n",
        "\n",
        "For example - lets plot the whole dataframe"
      ]
    },
    {
      "cell_type": "code",
      "metadata": {
        "id": "rllYfW-9ok4X",
        "colab_type": "code",
        "colab": {}
      },
      "source": [
        "act_data.plot()\n",
        "# This does not work - as the datetime values confuse pandas\n",
        "#   - how should they be interpreted?\n",
        "#   - what axes do we wish to use\n",
        "#   - pandas best guess fails"
      ],
      "execution_count": 0,
      "outputs": []
    },
    {
      "cell_type": "markdown",
      "metadata": {
        "id": "evwkJagfrpSm",
        "colab_type": "text"
      },
      "source": [
        "### OK - that didn't work\n",
        "\n",
        "Let try to plot just Pedestrians on the y-axis, with year on the x-axis\n"
      ]
    },
    {
      "cell_type": "code",
      "metadata": {
        "id": "BGGDXXdkbqX2",
        "colab_type": "code",
        "colab": {}
      },
      "source": [
        "act_data.plot(y=\"cyclists\", x=\"crash_year\")"
      ],
      "execution_count": 0,
      "outputs": []
    },
    {
      "cell_type": "markdown",
      "metadata": {
        "id": "tjOcU8OytArp",
        "colab_type": "text"
      },
      "source": [
        "What is going on with the dates?  We haven't specified an order, and we didn't create a date index.\n",
        "\n",
        "Let's sort before plotting:\n",
        "\n",
        "(**Alternatively** we could set a date index - then we wouldn't need to sort this here!)"
      ]
    },
    {
      "cell_type": "code",
      "metadata": {
        "id": "M0BIVzcktMVt",
        "colab_type": "code",
        "colab": {}
      },
      "source": [
        "act_data.sort_values(['crash_date']).plot(y=\"cyclists\", x=\"crash_year\")"
      ],
      "execution_count": 0,
      "outputs": []
    },
    {
      "cell_type": "markdown",
      "metadata": {
        "id": "kcO6i0DXtWmT",
        "colab_type": "text"
      },
      "source": [
        "What about those peaks?\n",
        "\n",
        "Notice the axis marks on the y-axis?\n",
        "\n",
        "The number of pedestrians in any accident is either 1, or 2.\n",
        "\n",
        "This doesn't give us a picture of what is happening over time.\n",
        "\n",
        "---\n",
        "## Grouping\n",
        "You can control your plots, and statistical calculations, through grouping.\n",
        "\n",
        "Grouping \"bunches together\" things which are \"alike\".\n",
        "\n",
        "If we group_by year, and sum the group, then we get a different perspective \n"
      ]
    },
    {
      "cell_type": "code",
      "metadata": {
        "id": "0Ts0535RjlRI",
        "colab_type": "code",
        "colab": {}
      },
      "source": [
        "act_data.groupby(act_data.crash_dt.dt.year).sum().plot(y='cyclists')"
      ],
      "execution_count": 0,
      "outputs": []
    },
    {
      "cell_type": "markdown",
      "metadata": {
        "id": "jZOTKOK_ub07",
        "colab_type": "text"
      },
      "source": [
        "### Date functions to group by\n",
        "\n",
        "1. weekday (the day of week on which the crash occurred)\n",
        "2. month  (the month of the year on which the crash occurred)\n",
        "3. year (the year in which the crash occurred)\n",
        "\n"
      ]
    },
    {
      "cell_type": "code",
      "metadata": {
        "id": "sYzL4kXiLO8-",
        "colab_type": "code",
        "colab": {}
      },
      "source": [
        "# act_data.groupby(act_data.crash_date.dt.weekday).sum().plot()\n",
        "act_data.groupby(act_data.crash_dt.dt.weekday).sum().plot(y='cyclists')\n",
        "plt.xlabel('Day of Week', fontsize=14)\n",
        "# act_data.groupby(act_data.crash_date.dt.month).sum().plot()\n",
        "act_data.groupby(act_data.crash_dt.dt.month).sum().plot(y='cyclists')\n",
        "plt.xlabel('Month of Year', fontsize=14)\n",
        "# act_data.groupby(act_data.crash_date.dt.year).sum().plot()\n",
        "act_data.groupby(act_data.crash_dt.dt.year).sum().plot(y='cyclists')\n",
        "plt.xlabel('Year', fontsize=14)\n"
      ],
      "execution_count": 0,
      "outputs": []
    },
    {
      "cell_type": "code",
      "metadata": {
        "id": "cke_Q0Nmqmjr",
        "colab_type": "code",
        "colab": {}
      },
      "source": [
        "# NOTE: we can use the additional columns we created\n",
        "act_data.groupby(act_data.crash_year).sum().plot(y='cyclists')\n",
        "plt.xlabel('Year', fontsize=14)"
      ],
      "execution_count": 0,
      "outputs": []
    },
    {
      "cell_type": "markdown",
      "metadata": {
        "id": "eggE8Yafvlk3",
        "colab_type": "text"
      },
      "source": [
        "---\n",
        "# Filtering\n",
        "\n",
        "We can select which rows, or columns, of data we are interested in looking at.\n",
        "\n",
        "This can help us answer questions about the data.\n",
        "\n",
        "For example - we may be interested in investigating the severity of the crash.\n",
        "\n",
        "The function \"unique()\" lets us find the values ono which we might filter.\n",
        "\n"
      ]
    },
    {
      "cell_type": "code",
      "metadata": {
        "id": "3FbrPN4rwIdq",
        "colab_type": "code",
        "colab": {}
      },
      "source": [
        "# Using column name directly\n",
        "act_data.severity.unique()\n",
        "# Using array syntax for accessing column name - necessary if column names contain spaces.\n",
        "act_data['severity'].unique()"
      ],
      "execution_count": 0,
      "outputs": []
    },
    {
      "cell_type": "markdown",
      "metadata": {
        "id": "-p-I1C1lxCCu",
        "colab_type": "text"
      },
      "source": [
        "There are 3 values\n",
        "1. Injury\n",
        "2. Property Damage Only\n",
        "3. Fatal\n",
        "\n",
        "Let's find the Injuries.\n",
        "\n",
        "We need to set Severity as an index to use it as a filter.\n",
        "\n",
        "And then we can use 3 ways of selecting which rows (or columns)\n",
        "\n",
        "1. items -- exact match on column name\n",
        "2. like -- a match on part of a string\n",
        "3. regex -- using a regular expression to match the row contents\n",
        "\n",
        "We will use \"like\""
      ]
    },
    {
      "cell_type": "code",
      "metadata": {
        "id": "ts7CLtElxQPy",
        "colab_type": "code",
        "colab": {}
      },
      "source": [
        "# we create a new dataframe called injuries\n",
        "injuries = act_data.set_index('severity').filter(like=\"Injury\", axis=0)\n",
        "injuries"
      ],
      "execution_count": 0,
      "outputs": []
    },
    {
      "cell_type": "markdown",
      "metadata": {
        "id": "j-bHI_tC1lgi",
        "colab_type": "text"
      },
      "source": [
        "Now we can describe injuries, and plot injuries"
      ]
    },
    {
      "cell_type": "code",
      "metadata": {
        "id": "eOZSZmT_1fc3",
        "colab_type": "code",
        "colab": {}
      },
      "source": [
        "injuries.describe()"
      ],
      "execution_count": 0,
      "outputs": []
    },
    {
      "cell_type": "code",
      "metadata": {
        "id": "RYfy9gop2DU2",
        "colab_type": "code",
        "colab": {}
      },
      "source": [
        "injuries.groupby(injuries.crash_year).sum().plot(y='cyclist_casualties', figsize=(20,10), linewidth=5, fontsize=20)\n",
        "plt.xlabel('Year', fontsize=20)\n"
      ],
      "execution_count": 0,
      "outputs": []
    },
    {
      "cell_type": "markdown",
      "metadata": {
        "id": "tWor-lY3a39q",
        "colab_type": "text"
      },
      "source": [
        "---\n",
        "# Querying\n",
        "A query is a more powerful type of filter.\n",
        "\n",
        "The required code is:\n",
        "```python\n",
        "query_result = dataframe.query(\"querystring\")\n",
        "```\n",
        "This runs a query represented by the querystring against the dataframe.\n",
        "\n",
        "A query string contains a boolean expression listing columns in the dataframe,\n",
        "operators, and values (or other columns).\n",
        "\n",
        "Rows in the dataframe for which the querystring evaluates to True are added to the query_result.\n",
        "\n",
        "Operators:\n",
        "```python\n",
        "  == (is equal to)\n",
        "  > (greater than)\n",
        "  >= (greater than or equal to)\n",
        "  < (less than)\n",
        "  <= (less than or equal to)\n",
        "  != (not equal to)\n",
        "  multiple expressions can be combined using and, or and not\n",
        "  and (A and B) - both expression A and B must return True\n",
        "  or (A or B) - either A or B must return True. Both cannot be False\n",
        "  not A - expression A must return False\n",
        "```\n",
        "\n"
      ]
    },
    {
      "cell_type": "code",
      "metadata": {
        "id": "GVvX3kfRc9Lq",
        "colab_type": "code",
        "colab": {}
      },
      "source": [
        "# It is important to know the data types of your columns\n",
        "# crash_year in this example is a string\n",
        "# So it must be compared as a string\n",
        "\n",
        "# This query asks for rows where severity is \"Injury\" and crash_year is \"2014\"\n",
        "inj_2014 = act_data.query('severity == \"Injury\" and crash_year == 2014')\n",
        "inj_2014.head()\n",
        "inj_2014.sum(axis=0)"
      ],
      "execution_count": 0,
      "outputs": []
    },
    {
      "cell_type": "markdown",
      "metadata": {
        "id": "HT0cI6pG24Yb",
        "colab_type": "text"
      },
      "source": [
        "---\n",
        "# Questions\n",
        "1. On which day of the week have most the most injuries occured?\n",
        "2. How many fataities have there been in total?\n",
        "3. Which is the worst month for injuries?\n",
        "4. How do the trends in injuries and property damage match?\n",
        "\n",
        "Use your skills with grouping and filtering, and sum - to answer these questions.\n",
        "\n",
        "---\n",
        "# Advanced Topic\n",
        "\n",
        "## Advanced Plotting\n",
        "\n",
        "Pandas enables sophisticated calculation.\n",
        "For example - we can calculate a rolling mean.\n",
        "\n",
        "NOTE: Rolling means require \"standardised data\" - like a daily (standard period) measurement.  \n",
        "\n",
        "The rolling mean in this case does not help us understand the dataset.  Also - Pandas has chosen (by default) to plot by severity.  Which is \"Injury\" for all items in this dataset. "
      ]
    },
    {
      "cell_type": "code",
      "metadata": {
        "id": "G7kp0KNo7dPW",
        "colab_type": "code",
        "colab": {}
      },
      "source": [
        "cyclists = injuries[['cyclists']]\n",
        "cyclists.rolling(12).mean().plot(figsize=(20,10), linewidth=5, fontsize=20)\n",
        "plt.xlabel('Severity', fontsize=20)"
      ],
      "execution_count": 0,
      "outputs": []
    },
    {
      "cell_type": "markdown",
      "metadata": {
        "id": "8NUB8hkQZ3VA",
        "colab_type": "text"
      },
      "source": [
        "We need to set a date index for our next operations.\n",
        "\"inplace=True\" means that it happens to the dataframe directly."
      ]
    },
    {
      "cell_type": "code",
      "metadata": {
        "id": "dLLfDJu6F8rP",
        "colab_type": "code",
        "colab": {}
      },
      "source": [
        "injuries.set_index('crash_dt', inplace=True)\n",
        "injuries.index\n"
      ],
      "execution_count": 0,
      "outputs": []
    },
    {
      "cell_type": "code",
      "metadata": {
        "id": "4gvff0NBnUqQ",
        "colab_type": "code",
        "colab": {}
      },
      "source": [
        "# Now we replot with the datetime index\n",
        "cyclists.rolling(12).mean().plot(figsize=(20,10), linewidth=5, fontsize=20)\n",
        "plt.xlabel('Year of Accident', fontsize=20)"
      ],
      "execution_count": 0,
      "outputs": []
    },
    {
      "cell_type": "markdown",
      "metadata": {
        "id": "BGUOGNdBhSim",
        "colab_type": "text"
      },
      "source": [
        "# Scatterplots\n",
        "\n",
        "By defining a marker, and making the linestyle \"None\", we can create a scatterplot of our data using pandas.\n",
        "\n",
        "We can also control the axis labels, and subplots.\n"
      ]
    },
    {
      "cell_type": "code",
      "metadata": {
        "id": "GVHYlka_hPA1",
        "colab_type": "code",
        "colab": {}
      },
      "source": [
        "# Create a list of the columns we are interested in plotting\n",
        "data_columns = ['cyclists','cyclist_casualties']\n",
        "\n",
        "# define axes for a scatterplot (marker is a period)\n",
        "#   and plot!\n",
        "axes = injuries[data_columns].plot(marker='.', alpha=0.5, linestyle='None', figsize=(11, 9), subplots=True)\n",
        "# for each plot (one for Pedestrians and on for Casualties)\n",
        "for ax in axes:\n",
        "    # set a y axis label\n",
        "    ax.set_ylabel('Number of People')\n",
        "    # set our bounds for the y-axis\n",
        "    ax.set_ybound(lower=0, upper=2.1)\n",
        "    # set an x-axis label\n",
        "    ax.set_xlabel('Year of Incident')"
      ],
      "execution_count": 0,
      "outputs": []
    },
    {
      "cell_type": "markdown",
      "metadata": {
        "id": "E_xRGRBDh3pS",
        "colab_type": "text"
      },
      "source": [
        "# Summary plots\n",
        "\n",
        "We can create a sum of data for each month (or any time period - week, year, etc.). This enables us to see patterns over time, comparing the number of incidents for each onth, and changes to the rate of pedestrian accident over time.\n",
        "\n",
        "We will also see how to manage the plot size, plot multiple graphs on a single set of axes, and add legends."
      ]
    },
    {
      "cell_type": "code",
      "metadata": {
        "id": "cPTtboi-h9BL",
        "colab_type": "code",
        "colab": {}
      },
      "source": [
        "# Plot a monthly sum for pedestrians and casualties on a single plot\n",
        "injury_monthly = injuries[data_columns].resample('M').sum()\n",
        "\n",
        "# We need to use the matplotlib dates module\n",
        "import matplotlib.dates as mdates\n",
        "\n",
        "# we can set our plot area using figsize\n",
        "# defining fig, ax from matplotlib subplots allows us to plot multiple data on the same axis\n",
        "fig, ax = plt.subplots(figsize=(30,10))\n",
        "\n",
        "# plot pedestrians as a black line\n",
        "ax.plot(injury_monthly['cyclists'], color='black', label='Cyclists')\n",
        "# plot casualties as an area\n",
        "injury_monthly[['cyclist_casualties']].plot.area(ax=ax, linewidth=0)\n",
        "# we will use a Month Locator for x axis labels\n",
        "ax.xaxis.set_major_locator(mdates.MonthLocator())\n",
        "# Alternatively use a Year Locator for x axis labels (1 per year)\n",
        "# ax.xaxis.set_major_locator(mdates.YearLocator())\n",
        "\n",
        "# Add a legend\n",
        "ax.legend()\n",
        "# Set a y-label\n",
        "ax.set_ylabel('Monthly Total (People)');\n",
        "ax.set_xlabel('Month of Year');"
      ],
      "execution_count": 0,
      "outputs": []
    },
    {
      "cell_type": "markdown",
      "metadata": {
        "id": "-aPFQoBCERH5",
        "colab_type": "text"
      },
      "source": [
        "## Seaborn\n",
        "\n",
        "Seaborn is an advanced [statistical data visualisation](https://seaborn.pydata.org/) library.\n",
        "\n",
        "We will start looking at some of its capabilities."
      ]
    },
    {
      "cell_type": "code",
      "metadata": {
        "id": "ORaI_LeY-FbT",
        "colab_type": "code",
        "colab": {}
      },
      "source": [
        "import seaborn as sns\n",
        "# Use seaborn style defaults and set the default figure size\n",
        "sns.set(rc={'figure.figsize':(11, 4)})"
      ],
      "execution_count": 0,
      "outputs": []
    },
    {
      "cell_type": "markdown",
      "metadata": {
        "id": "pT_oPKa6oCmL",
        "colab_type": "text"
      },
      "source": [
        "# Box Plots\n",
        "\n",
        "We can use seaborn to create a boxplot.\n",
        "\n",
        "In this case - we will use the injury data summed by month (as created above)\n",
        "\n",
        "This will summarise the data for ALL years, by month"
      ]
    },
    {
      "cell_type": "code",
      "metadata": {
        "id": "1KANjemv-K3D",
        "colab_type": "code",
        "colab": {}
      },
      "source": [
        "# Seaborn is used to create a box plot\n",
        "fig, axes = plt.subplots(2, 1, figsize=(30, 10), sharex=True)\n",
        "for name, ax in zip(['cyclists', 'cyclist_casualties'], axes):\n",
        "  sns.boxplot(data=injury_monthly, x=injury_monthly.index.month, y=name, ax=ax)\n",
        "  ax.set_ylabel('Persons')\n",
        "  ax.set_xticklabels(injury_monthly.index.strftime(\"%B\"))\n",
        "  ax.set_title(name)\n",
        "  ax.set_xlabel('')\n",
        "axes[1].set_xlabel('Month of Year')\n"
      ],
      "execution_count": 0,
      "outputs": []
    }
  ]
}