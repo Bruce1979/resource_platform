{
  "nbformat": 4,
  "nbformat_minor": 0,
  "metadata": {
    "colab": {
      "name": "Impactful_Data_Science.ipynb",
      "provenance": [],
      "collapsed_sections": []
    },
    "kernelspec": {
      "name": "python3",
      "display_name": "Python 3"
    }
  },
  "cells": [
    {
      "cell_type": "markdown",
      "metadata": {
        "id": "cROKwrevGJ8i",
        "colab_type": "text"
      },
      "source": [
        "# Impactful Data Science\n",
        "## Impact 2020 - All Colleges Conference\n",
        "\n",
        "Data Science uses data.\n",
        "\n",
        "We can use data to tell stories.\n",
        "\n",
        "What does the following tell you?\n"
      ]
    },
    {
      "cell_type": "markdown",
      "metadata": {
        "id": "x5ZOG_InGtK9",
        "colab_type": "text"
      },
      "source": [
        "# Python - A powerful multi-paradigm programming language\n",
        "## Import: use a code library\n",
        "## PANDAS - a library for managing dataframes\n",
        "\n"
      ]
    },
    {
      "cell_type": "code",
      "metadata": {
        "id": "p2aNUQvVoq4z",
        "colab_type": "code",
        "colab": {}
      },
      "source": [
        "# import gives us access to a library of python code\n",
        "# In this way we can build our code based on sophisticated code\n",
        "# created by a wide range of experts from around the world.\n",
        "\n",
        "import pandas as pd\n",
        "# pandas is a library for data processing\n"
      ],
      "execution_count": 0,
      "outputs": []
    },
    {
      "cell_type": "markdown",
      "metadata": {
        "id": "_SLFAejIHiRr",
        "colab_type": "text"
      },
      "source": [
        "## pandas.read_csv()\n",
        "Read a file formatted in comma-separated value format.\n",
        "\n",
        "This can be located on a web resource, or in a local folder.\n",
        "\n",
        "Transform this into a pandas DataFrame"
      ]
    },
    {
      "cell_type": "code",
      "metadata": {
        "id": "dXQrjJesppBo",
        "colab_type": "code",
        "colab": {}
      },
      "source": [
        "dino_df = pd.read_csv('http://www.cyclicautomata.com/impactful_ds/unidentified_dinosaur_data.csv')\n",
        "# Is this dataset the number of fossils discovered each year by continent (North America vs South America)\n"
      ],
      "execution_count": 0,
      "outputs": []
    },
    {
      "cell_type": "markdown",
      "metadata": {
        "id": "vfLTRv9pHznv",
        "colab_type": "text"
      },
      "source": [
        "# Look at the data\n",
        "dataframe.head() shows you the first 5 rows of your data\n",
        "\n",
        "It is good practice to inspect your data after loading"
      ]
    },
    {
      "cell_type": "code",
      "metadata": {
        "id": "3z1IIVJPqfTc",
        "colab_type": "code",
        "colab": {}
      },
      "source": [
        "dino_df.head()"
      ],
      "execution_count": 0,
      "outputs": []
    },
    {
      "cell_type": "markdown",
      "metadata": {
        "id": "nRDcLcQQHyoq",
        "colab_type": "text"
      },
      "source": [
        "## dataframe.describe()\n",
        "Calculate measures of central tendency for the numeric columns in your data.\n",
        "\n",
        "This does not interpret or discriminate. If the column contains a number, \"describe\" assumes that the data has a useful mean and standard deviation."
      ]
    },
    {
      "cell_type": "code",
      "metadata": {
        "id": "n1nwhRoBpzMN",
        "colab_type": "code",
        "colab": {}
      },
      "source": [
        "dino_df.describe()"
      ],
      "execution_count": 0,
      "outputs": []
    },
    {
      "cell_type": "markdown",
      "metadata": {
        "id": "XPuetiE8Hysc",
        "colab_type": "text"
      },
      "source": [
        "## dataframe.plot()\n",
        "\n",
        "Uses matplotlib to plot the data.\n",
        "This uses a \"best guess\" about the data.\n",
        "\n",
        "You can choose different plots and access matplotlib and its powers directly.\n",
        "\n",
        "# My guess\n",
        "A represents the average number of dinosaur fossils found in South America over time\n",
        "\n",
        "B represents the average number of dinosaur fossils found in North America over time"
      ]
    },
    {
      "cell_type": "code",
      "metadata": {
        "id": "XHcUhbWYp2S1",
        "colab_type": "code",
        "colab": {}
      },
      "source": [
        "dino_df.plot()"
      ],
      "execution_count": 0,
      "outputs": []
    },
    {
      "cell_type": "markdown",
      "metadata": {
        "id": "UHJWiCt3I11c",
        "colab_type": "text"
      },
      "source": [
        "# Lets try a scatterplot for the datapoints\n",
        "\n",
        "This will give us a different view of the points."
      ]
    },
    {
      "cell_type": "code",
      "metadata": {
        "id": "Q6TINxmCp6ay",
        "colab_type": "code",
        "colab": {}
      },
      "source": [
        "dino_df.plot.scatter(x='A',y='B',figsize=(14,12))"
      ],
      "execution_count": 0,
      "outputs": []
    },
    {
      "cell_type": "markdown",
      "metadata": {
        "id": "hD1L-m7YJWXI",
        "colab_type": "text"
      },
      "source": [
        "# A-ha!\n",
        "\n",
        "# Now lets look at the mean and standard deviation for a number of datasets\n",
        "\n",
        "We read in a new dataset and put it into a new dataframe"
      ]
    },
    {
      "cell_type": "code",
      "metadata": {
        "id": "zXihqaVGulzZ",
        "colab_type": "code",
        "colab": {}
      },
      "source": [
        "df_aq = pd.read_csv('http://www.cyclicautomata.com/impactful_ds/impactful_ds_aq.csv')"
      ],
      "execution_count": 0,
      "outputs": []
    },
    {
      "cell_type": "markdown",
      "metadata": {
        "id": "EMt7XZGhJntV",
        "colab_type": "text"
      },
      "source": [
        "Lets describe it"
      ]
    },
    {
      "cell_type": "code",
      "metadata": {
        "id": "jpNc50iU_hd_",
        "colab_type": "code",
        "colab": {}
      },
      "source": [
        "df_aq.describe()"
      ],
      "execution_count": 0,
      "outputs": []
    },
    {
      "cell_type": "markdown",
      "metadata": {
        "id": "UM9ucU8mJs2J",
        "colab_type": "text"
      },
      "source": [
        "## Mean and Standard Deviation\n",
        "Pay attention to the mean and standard deviation for each of these data sets\n",
        "\n",
        "The mean for X is the same for each dataset\n",
        "The standard deviation for X is the same for each dataset\n",
        "\n",
        "The mean for Y is the same to 2 dp for each dataset\n",
        "The standard deviation is the same to 2 dp for each dataset\n",
        "\n",
        "# Fancy Plot\n",
        "## we want to plot these datasets side by side for comparison"
      ]
    },
    {
      "cell_type": "code",
      "metadata": {
        "id": "h7tAN19a_0n3",
        "colab_type": "code",
        "colab": {}
      },
      "source": [
        "import matplotlib.pyplot as plt\n",
        "import matplotlib.axes as mpa\n",
        "\n",
        "\n",
        "fig, axes = plt.subplots(nrows=2, ncols=2, figsize=[14,14], sharex=True, sharey=True)\n",
        "df_aq.plot.scatter(ax=axes[0, 0], x='x1', y='y1')\n",
        "df_aq.plot.scatter(ax=axes[1, 0], x='x2', y='y2')\n",
        "df_aq.plot.scatter(ax=axes[0, 1], x='x3', y='y3')\n",
        "df_aq.plot.scatter(ax=axes[1, 1], x='x4', y='y4')\n"
      ],
      "execution_count": 0,
      "outputs": []
    },
    {
      "cell_type": "code",
      "metadata": {
        "id": "LPBSKf-zMz5h",
        "colab_type": "code",
        "colab": {}
      },
      "source": [
        "#@title The importance of plotting your data { display-mode: \"form\" }\n",
        "#@markdown This 3-minute video demonstrates how far you can take Anscombe's Quartet:\n",
        "\n",
        "#@markdown Check before using in Chrome (Chrome doesn't like the mp4 video)\n",
        "from IPython.display import HTML\n",
        "\n",
        "HTML(\"\"\" \n",
        "<video width=1200 controls>\n",
        "      <source src=\"http://www.cyclicautomata.com/impactful_ds/pn3600-file3.mp4\" type=\"video/mp4;base64\">\n",
        "</video>\n",
        "\"\"\".format(data_url))\n",
        "\n",
        "\n"
      ],
      "execution_count": 0,
      "outputs": []
    }
  ]
}